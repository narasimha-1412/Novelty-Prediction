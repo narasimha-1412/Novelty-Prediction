{
 "cells": [
  {
   "cell_type": "code",
   "execution_count": 1,
   "id": "32a0cdb2",
   "metadata": {},
   "outputs": [],
   "source": [
    "import warnings\n",
    "warnings.filterwarnings('ignore')"
   ]
  },
  {
   "cell_type": "code",
   "execution_count": 3,
   "id": "68a0f127",
   "metadata": {},
   "outputs": [],
   "source": [
    "#import python classes and packages\n",
    "from string import punctuation\n",
    "#importing NLP packages for text review processing\n",
    "from nltk.corpus import stopwords\n",
    "import nltk\n",
    "from nltk.stem import WordNetLemmatizer\n",
    "import numpy as np\n",
    "import pandas as pd\n",
    "import pickle\n",
    "from nltk.stem import PorterStemmer\n",
    "from keras.utils.np_utils import to_categorical\n",
    "import os\n",
    "from sklearn.metrics import accuracy_score\n",
    "from keras.layers import  MaxPooling2D\n",
    "from keras.layers import Dense, Dropout, Activation, Flatten\n",
    "from keras.layers import Convolution2D\n",
    "from keras.models import Sequential, Model, load_model\n",
    "from keras.models import model_from_json\n",
    "from sklearn.preprocessing import MinMaxScaler\n",
    "from keras.callbacks import ModelCheckpoint \n",
    "from keras.layers import Bidirectional, GRU, LSTM, Conv1D, MaxPooling1D, RepeatVector#loading GRU, bidriectional, lstm and CNN\n",
    "from sentence_transformers import SentenceTransformer #loading bert sentence model\n",
    "from sklearn.model_selection import train_test_split\n",
    "import seaborn as sns\n",
    "from sklearn.metrics import precision_score\n",
    "from sklearn.metrics import recall_score\n",
    "from sklearn.metrics import f1_score\n",
    "from sklearn.metrics import confusion_matrix\n",
    "import matplotlib.pyplot as plt"
   ]
  },
  {
   "cell_type": "code",
   "execution_count": 3,
   "id": "403155db",
   "metadata": {},
   "outputs": [
    {
     "name": "stdout",
     "output_type": "stream",
     "text": [
      "Bert model initialized\n"
     ]
    }
   ],
   "source": [
    "#create bert model object\n",
    "bert = SentenceTransformer('nli-distilroberta-base-v2')\n",
    "print(\"Bert model initialized\")"
   ]
  },
  {
   "cell_type": "code",
   "execution_count": 4,
   "id": "92883145",
   "metadata": {},
   "outputs": [],
   "source": [
    "#defining classes to remove stop words, applying steeming and lemmatization\n",
    "stop_words = set(stopwords.words('english'))\n",
    "lemmatizer = WordNetLemmatizer()\n",
    "ps = PorterStemmer()"
   ]
  },
  {
   "cell_type": "code",
   "execution_count": 5,
   "id": "0469bb71",
   "metadata": {},
   "outputs": [],
   "source": [
    "#define function to clean text reviews from dataset\n",
    "def cleanText(doc):\n",
    "    tokens = doc.split()\n",
    "    table = str.maketrans('', '', punctuation)\n",
    "    tokens = [w.translate(table) for w in tokens]\n",
    "    tokens = [word for word in tokens if word.isalpha()]\n",
    "    tokens = [w for w in tokens if not w in stop_words]\n",
    "    tokens = [word for word in tokens if len(word) > 1]\n",
    "    tokens = [ps.stem(token) for token in tokens]\n",
    "    tokens = [lemmatizer.lemmatize(token) for token in tokens]\n",
    "    tokens = ' '.join(tokens)\n",
    "    return tokens"
   ]
  },
  {
   "cell_type": "code",
   "execution_count": 5,
   "id": "2b8efe87",
   "metadata": {},
   "outputs": [
    {
     "data": {
      "text/html": [
       "<div>\n",
       "<style scoped>\n",
       "    .dataframe tbody tr th:only-of-type {\n",
       "        vertical-align: middle;\n",
       "    }\n",
       "\n",
       "    .dataframe tbody tr th {\n",
       "        vertical-align: top;\n",
       "    }\n",
       "\n",
       "    .dataframe thead th {\n",
       "        text-align: right;\n",
       "    }\n",
       "</style>\n",
       "<table border=\"1\" class=\"dataframe\">\n",
       "  <thead>\n",
       "    <tr style=\"text-align: right;\">\n",
       "      <th></th>\n",
       "      <th>content</th>\n",
       "      <th>label</th>\n",
       "      <th>type</th>\n",
       "    </tr>\n",
       "  </thead>\n",
       "  <tbody>\n",
       "    <tr>\n",
       "      <td>0</td>\n",
       "      <td>Wow what an amazing walk on the Great Wall of ...</td>\n",
       "      <td>0</td>\n",
       "      <td>train</td>\n",
       "    </tr>\n",
       "    <tr>\n",
       "      <td>1</td>\n",
       "      <td>I came to spend 2 hours between 2 professional...</td>\n",
       "      <td>0</td>\n",
       "      <td>train</td>\n",
       "    </tr>\n",
       "    <tr>\n",
       "      <td>2</td>\n",
       "      <td>A MUST visit in one's life. History and Art fr...</td>\n",
       "      <td>1</td>\n",
       "      <td>train</td>\n",
       "    </tr>\n",
       "    <tr>\n",
       "      <td>3</td>\n",
       "      <td>It's was very peaceful and beautiful, go with ...</td>\n",
       "      <td>0</td>\n",
       "      <td>train</td>\n",
       "    </tr>\n",
       "    <tr>\n",
       "      <td>4</td>\n",
       "      <td>It is beautiful lake in all seasons. Beautiful...</td>\n",
       "      <td>0</td>\n",
       "      <td>train</td>\n",
       "    </tr>\n",
       "    <tr>\n",
       "      <td>...</td>\n",
       "      <td>...</td>\n",
       "      <td>...</td>\n",
       "      <td>...</td>\n",
       "    </tr>\n",
       "    <tr>\n",
       "      <td>3995</td>\n",
       "      <td>I visited it right when the official change to...</td>\n",
       "      <td>0</td>\n",
       "      <td>valid</td>\n",
       "    </tr>\n",
       "    <tr>\n",
       "      <td>3996</td>\n",
       "      <td>Suomenlinna is stunning historic place. We wen...</td>\n",
       "      <td>1</td>\n",
       "      <td>valid</td>\n",
       "    </tr>\n",
       "    <tr>\n",
       "      <td>3997</td>\n",
       "      <td>Milcha/Mike was funny, really knowledgeable an...</td>\n",
       "      <td>1</td>\n",
       "      <td>valid</td>\n",
       "    </tr>\n",
       "    <tr>\n",
       "      <td>3998</td>\n",
       "      <td>From the Helsinki market place there is a ferr...</td>\n",
       "      <td>1</td>\n",
       "      <td>valid</td>\n",
       "    </tr>\n",
       "    <tr>\n",
       "      <td>3999</td>\n",
       "      <td>Even though there were people there at sunrise...</td>\n",
       "      <td>1</td>\n",
       "      <td>valid</td>\n",
       "    </tr>\n",
       "  </tbody>\n",
       "</table>\n",
       "<p>4000 rows × 3 columns</p>\n",
       "</div>"
      ],
      "text/plain": [
       "                                                content  label   type\n",
       "0     Wow what an amazing walk on the Great Wall of ...      0  train\n",
       "1     I came to spend 2 hours between 2 professional...      0  train\n",
       "2     A MUST visit in one's life. History and Art fr...      1  train\n",
       "3     It's was very peaceful and beautiful, go with ...      0  train\n",
       "4     It is beautiful lake in all seasons. Beautiful...      0  train\n",
       "...                                                 ...    ...    ...\n",
       "3995  I visited it right when the official change to...      0  valid\n",
       "3996  Suomenlinna is stunning historic place. We wen...      1  valid\n",
       "3997  Milcha/Mike was funny, really knowledgeable an...      1  valid\n",
       "3998  From the Helsinki market place there is a ferr...      1  valid\n",
       "3999  Even though there were people there at sunrise...      1  valid\n",
       "\n",
       "[4000 rows x 3 columns]"
      ]
     },
     "execution_count": 5,
     "metadata": {},
     "output_type": "execute_result"
    }
   ],
   "source": [
    "#load and display Novelty Seeking reviews dataset\n",
    "dataset = pd.read_csv(\"Dataset/processed.csv\")\n",
    "dataset"
   ]
  },
  {
   "cell_type": "code",
   "execution_count": 7,
   "id": "d49daeef",
   "metadata": {},
   "outputs": [
    {
     "data": {
      "image/png": "[encoded data removed]",
      "text/plain": [
       "<Figure size 432x288 with 1 Axes>"
      ]
     },
     "metadata": {
      "needs_background": "light"
     },
     "output_type": "display_data"
    }
   ],
   "source": [
    "#find and plot graph of Novelty Seeking from dataset where 0 label refers as review contains Novelty Seeking and 1 as\n",
    "#non-novelty seeking\n",
    "#plot labels in dataset\n",
    "labels, count = np.unique(dataset['label'], return_counts = True)\n",
    "labels = ['Novelty Seeking', 'Non-Novelty Seeking']\n",
    "height = count\n",
    "bars = labels\n",
    "y_pos = np.arange(len(bars))\n",
    "plt.bar(y_pos, height)\n",
    "plt.xticks(y_pos, bars)\n",
    "plt.xlabel(\"Dataset Class Label Graph\")\n",
    "plt.ylabel(\"Count\")\n",
    "plt.show()"
   ]
  },
  {
   "cell_type": "code",
   "execution_count": 8,
   "id": "36acaa6f",
   "metadata": {},
   "outputs": [
    {
     "name": "stdout",
     "output_type": "stream",
     "text": [
      "Bert Converted Embedding vector from dataset reviews\n",
      "[[-0.04793587  0.5640375  -0.6450349  ... -0.65913534  0.9045596\n",
      "   0.5499603 ]\n",
      " [ 0.70733136 -0.08709043  0.07673962 ... -0.32128632  0.6108363\n",
      "   0.01826572]\n",
      " [-0.48672682  0.44718155 -0.50237244 ...  0.08478663  0.78687054\n",
      "   0.23511195]\n",
      " ...\n",
      " [ 0.26772055  0.76312727 -0.02005892 ...  0.51458335  0.05910476\n",
      "   0.42454597]\n",
      " [ 0.33064586  0.3962934   0.22244608 ... -0.4317711   0.66906726\n",
      "   0.24422391]\n",
      " [ 0.8522946   0.74757236  0.3078637  ... -0.13496889  0.6102617\n",
      "   0.81993985]]\n"
     ]
    }
   ],
   "source": [
    "#now clean dataset reviews and then convert to BERT vector\n",
    "if os.path.exists(\"model/bert.npy\"):\n",
    "    X = np.load(\"model/bert.npy\")\n",
    "    Y = np.load(\"model/label.npy\")\n",
    "else:\n",
    "    textdata = []\n",
    "    labels = []\n",
    "    for i in range(len(dataset)):#loop all reviews from dataset\n",
    "        msg = dataset.get_value(i, 'content')#read review content\n",
    "        label = dataset.get_value(i, 'label')#read label\n",
    "        msg = msg.strip().lower()      #convert text to lower case  \n",
    "        msg = cleanPost(msg)#clean the review message\n",
    "        textdata.append(msg)#add message to textdata array    \n",
    "        labels.append(label)#adding label to array\n",
    "    embeddings = bert.encode(textdata, convert_to_tensor=True)#convert all text data into BERT vector\n",
    "    X = embeddings.numpy()#convert bert vector into numpy for training\n",
    "    np.save(\"model/bert\", X)#save bert data and labels to model folder\n",
    "    Y = np.asarray(labels)\n",
    "    np.save(\"model/label\", Y)\n",
    "print(\"Bert Converted Embedding vector from dataset reviews\")\n",
    "print(X)"
   ]
  },
  {
   "cell_type": "code",
   "execution_count": 9,
   "id": "12036e98",
   "metadata": {},
   "outputs": [
    {
     "name": "stdout",
     "output_type": "stream",
     "text": [
      "\n",
      "Dataset train & test split as 80% dataset for training and 20% for testing\n",
      "Training Size (80%): 3200\n",
      "Testing Size (20%): 800\n",
      "\n"
     ]
    }
   ],
   "source": [
    "#perform dataset preprocessing such as shuffling and splitting dataset into train and test where application used 80% dataset\n",
    "#for training and 20% for testing\n",
    "indices = np.arange(X.shape[0])\n",
    "np.random.shuffle(indices)\n",
    "X = X[indices]\n",
    "Y = Y[indices]\n",
    "Y = to_categorical(Y)\n",
    "X = np.reshape(X, (X.shape[0], 32, 24))\n",
    "X_train, X_test, y_train, y_test = train_test_split(X, Y, test_size=0.2)\n",
    "print()\n",
    "print(\"Dataset train & test split as 80% dataset for training and 20% for testing\")\n",
    "print(\"Training Size (80%): \"+str(X_train.shape[0])) #print training and test size\n",
    "print(\"Testing Size (20%): \"+str(X_test.shape[0]))\n",
    "print()"
   ]
  },
  {
   "cell_type": "code",
   "execution_count": 6,
   "id": "ab2acaae",
   "metadata": {},
   "outputs": [],
   "source": [
    "#define global variables to save accuracy and other metrics\n",
    "accuracy = []\n",
    "precision = []\n",
    "recall = []\n",
    "fscore = []\n",
    "\n",
    "ML_Model = []\n",
    "acc = []\n",
    "prec = []\n",
    "rec = []\n",
    "f1 = []\n",
    "\n",
    "#function to call for storing the results\n",
    "def storeResults(model, a,b,c,d):\n",
    "    ML_Model.append(model)\n",
    "    acc.append(round(a, 3))\n",
    "    prec.append(round(b, 3))\n",
    "    rec.append(round(c, 3))\n",
    "    f1.append(round(d, 3))"
   ]
  },
  {
   "cell_type": "code",
   "execution_count": 97,
   "id": "3373b2ac",
   "metadata": {},
   "outputs": [],
   "source": [
    "#function to calculate various metrics such as accuracy, precision etc\n",
    "def calculateMetrics(algorithm, predict, testY):\n",
    "    p = precision_score(testY, predict,average='macro') * 100\n",
    "    r = recall_score(testY, predict,average='macro') * 100\n",
    "    f = f1_score(testY, predict,average='macro') * 100\n",
    "    a = accuracy_score(testY,predict)*100     \n",
    "    print()\n",
    "    print(algorithm+' Accuracy  : '+str(a))\n",
    "    print(algorithm+' Precision   : '+str(p))\n",
    "    print(algorithm+' Recall      : '+str(r))\n",
    "    print(algorithm+' FMeasure    : '+str(f))    \n",
    "    accuracy.append(a)\n",
    "    precision.append(p)\n",
    "    recall.append(r)\n",
    "    fscore.append(f)\n",
    "    conf_matrix = confusion_matrix(testY, predict) \n",
    "    plt.figure(figsize =(5, 5)) \n",
    "    ax = sns.heatmap(conf_matrix, xticklabels = labels, yticklabels = labels, annot = True, cmap=\"viridis\" ,fmt =\"g\");\n",
    "    ax.set_ylim([0,len(labels)])\n",
    "    plt.title(algorithm+\" Confusion matrix\") \n",
    "    plt.ylabel('True class') \n",
    "    plt.xlabel('Predicted class') \n",
    "    plt.show()"
   ]
  },
  {
   "cell_type": "markdown",
   "id": "f1c3da71",
   "metadata": {},
   "source": [
    "# LSTM"
   ]
  },
  {
   "cell_type": "code",
   "execution_count": 13,
   "id": "50d035e1",
   "metadata": {},
   "outputs": [
    {
     "name": "stdout",
     "output_type": "stream",
     "text": [
      "Epoch 1/35\n",
      "200/200 [==============================] - 17s 13ms/step - loss: 0.6794 - accuracy: 0.5781 - val_loss: 0.6456 - val_accuracy: 0.6425\n",
      "Epoch 2/35\n",
      "200/200 [==============================] - 2s 8ms/step - loss: 0.6499 - accuracy: 0.6243 - val_loss: 0.6220 - val_accuracy: 0.6525\n",
      "Epoch 3/35\n",
      "200/200 [==============================] - 2s 9ms/step - loss: 0.6133 - accuracy: 0.6626 - val_loss: 0.5971 - val_accuracy: 0.7063\n",
      "Epoch 4/35\n",
      "200/200 [==============================] - 2s 9ms/step - loss: 0.5966 - accuracy: 0.6829 - val_loss: 0.5743 - val_accuracy: 0.7050\n",
      "Epoch 5/35\n",
      "200/200 [==============================] - 2s 9ms/step - loss: 0.5584 - accuracy: 0.7219 - val_loss: 0.5737 - val_accuracy: 0.6862\n",
      "Epoch 6/35\n",
      "200/200 [==============================] - 2s 9ms/step - loss: 0.5380 - accuracy: 0.7276 - val_loss: 0.5707 - val_accuracy: 0.7150\n",
      "Epoch 7/35\n",
      "200/200 [==============================] - 2s 8ms/step - loss: 0.5222 - accuracy: 0.7450 - val_loss: 0.5646 - val_accuracy: 0.7075\n",
      "Epoch 8/35\n",
      "200/200 [==============================] - 2s 9ms/step - loss: 0.5122 - accuracy: 0.7537 - val_loss: 0.5692 - val_accuracy: 0.7088\n",
      "Epoch 9/35\n",
      "200/200 [==============================] - 2s 9ms/step - loss: 0.4875 - accuracy: 0.7501 - val_loss: 0.5835 - val_accuracy: 0.7075\n",
      "Epoch 10/35\n",
      "200/200 [==============================] - 2s 9ms/step - loss: 0.4586 - accuracy: 0.7872 - val_loss: 0.6031 - val_accuracy: 0.6988\n",
      "Epoch 11/35\n",
      "200/200 [==============================] - 2s 9ms/step - loss: 0.4429 - accuracy: 0.7929 - val_loss: 0.6281 - val_accuracy: 0.7050\n",
      "Epoch 12/35\n",
      "200/200 [==============================] - 2s 8ms/step - loss: 0.4343 - accuracy: 0.8085 - val_loss: 0.6440 - val_accuracy: 0.7125\n",
      "Epoch 13/35\n",
      "200/200 [==============================] - 2s 8ms/step - loss: 0.4063 - accuracy: 0.8194 - val_loss: 0.6807 - val_accuracy: 0.6950\n",
      "Epoch 14/35\n",
      "200/200 [==============================] - 2s 9ms/step - loss: 0.3808 - accuracy: 0.8304 - val_loss: 0.7248 - val_accuracy: 0.6975\n",
      "Epoch 15/35\n",
      "200/200 [==============================] - 2s 9ms/step - loss: 0.3906 - accuracy: 0.8192 - val_loss: 0.7306 - val_accuracy: 0.6900\n",
      "Epoch 16/35\n",
      "200/200 [==============================] - 2s 9ms/step - loss: 0.3735 - accuracy: 0.8332 - val_loss: 0.7282 - val_accuracy: 0.7063\n",
      "Epoch 17/35\n",
      "200/200 [==============================] - 2s 9ms/step - loss: 0.3554 - accuracy: 0.8431 - val_loss: 0.8200 - val_accuracy: 0.6625\n",
      "Epoch 18/35\n",
      "200/200 [==============================] - 2s 8ms/step - loss: 0.3234 - accuracy: 0.8665 - val_loss: 0.8272 - val_accuracy: 0.6913\n",
      "Epoch 19/35\n",
      "200/200 [==============================] - 2s 8ms/step - loss: 0.3228 - accuracy: 0.8595 - val_loss: 0.8475 - val_accuracy: 0.6750\n",
      "Epoch 20/35\n",
      "200/200 [==============================] - 2s 8ms/step - loss: 0.3021 - accuracy: 0.8747 - val_loss: 0.8393 - val_accuracy: 0.6837\n",
      "Epoch 21/35\n",
      "200/200 [==============================] - 2s 9ms/step - loss: 0.2781 - accuracy: 0.8823 - val_loss: 0.9152 - val_accuracy: 0.6837\n",
      "Epoch 22/35\n",
      "200/200 [==============================] - 2s 9ms/step - loss: 0.2401 - accuracy: 0.9100 - val_loss: 0.8861 - val_accuracy: 0.6675\n",
      "Epoch 23/35\n",
      "200/200 [==============================] - 2s 9ms/step - loss: 0.2317 - accuracy: 0.9130 - val_loss: 0.9935 - val_accuracy: 0.6575\n",
      "Epoch 24/35\n",
      "200/200 [==============================] - 2s 9ms/step - loss: 0.2290 - accuracy: 0.9151 - val_loss: 1.0822 - val_accuracy: 0.6675\n",
      "Epoch 25/35\n",
      "200/200 [==============================] - 2s 9ms/step - loss: 0.2021 - accuracy: 0.9238 - val_loss: 1.1105 - val_accuracy: 0.6762\n",
      "Epoch 26/35\n",
      "200/200 [==============================] - 2s 9ms/step - loss: 0.1963 - accuracy: 0.9196 - val_loss: 1.2407 - val_accuracy: 0.6775\n",
      "Epoch 27/35\n",
      "200/200 [==============================] - 2s 9ms/step - loss: 0.1948 - accuracy: 0.9244 - val_loss: 1.1944 - val_accuracy: 0.6938\n",
      "Epoch 28/35\n",
      "200/200 [==============================] - 2s 9ms/step - loss: 0.1601 - accuracy: 0.9330 - val_loss: 1.2076 - val_accuracy: 0.6675\n",
      "Epoch 29/35\n",
      "200/200 [==============================] - 2s 9ms/step - loss: 0.1506 - accuracy: 0.9454 - val_loss: 1.3256 - val_accuracy: 0.6850\n",
      "Epoch 30/35\n",
      "200/200 [==============================] - 1s 6ms/step - loss: 0.1344 - accuracy: 0.9534 - val_loss: 1.3934 - val_accuracy: 0.6925\n",
      "Epoch 31/35\n",
      "200/200 [==============================] - 1s 6ms/step - loss: 0.1377 - accuracy: 0.9483 - val_loss: 1.3615 - val_accuracy: 0.6837\n",
      "Epoch 32/35\n",
      "200/200 [==============================] - 1s 7ms/step - loss: 0.1158 - accuracy: 0.9571 - val_loss: 1.4886 - val_accuracy: 0.6850\n",
      "Epoch 33/35\n",
      "200/200 [==============================] - 2s 8ms/step - loss: 0.1170 - accuracy: 0.9523 - val_loss: 1.4606 - val_accuracy: 0.6750\n",
      "Epoch 34/35\n",
      "200/200 [==============================] - 2s 8ms/step - loss: 0.1096 - accuracy: 0.9609 - val_loss: 1.5042 - val_accuracy: 0.6725\n",
      "Epoch 35/35\n",
      "200/200 [==============================] - 2s 9ms/step - loss: 0.0917 - accuracy: 0.9695 - val_loss: 1.6279 - val_accuracy: 0.6800\n"
     ]
    }
   ],
   "source": [
    "#now train existing BERT-LSTM algorithm\n",
    "lstm = Sequential() #defining deep learning sequential object\n",
    "#adding GRU layer with 32 filters to filter given input X train data to select relevant features\n",
    "lstm.add(LSTM(32, input_shape=(X_train.shape[1], X_train.shape[2]), return_sequences=True))\n",
    "#adding dropout layer to remove irrelevant features\n",
    "lstm.add(Dropout(0.3))\n",
    "#adding another layer\n",
    "lstm.add(LSTM(32))\n",
    "lstm.add(Dropout(0.3))\n",
    "#defining output layer for prediction\n",
    "lstm.add(Dense(y_train.shape[1], activation='softmax'))\n",
    "#compile GRU model\n",
    "lstm.compile(loss='categorical_crossentropy', optimizer='adam', metrics=['accuracy'])\n",
    "#start training model on train data and perform validation on test data\n",
    "#if os.path.exists(\"model/lstm_weights.hdf5\") == False:\n",
    "    #model_check_point = ModelCheckpoint(filepath='model/lstm_weights.hdf5', verbose = 1, save_best_only = True)\n",
    "hist = lstm.fit(X_train, y_train, batch_size = 16, epochs = 35, validation_data=(X_test, y_test), verbose=1)\n",
    "    #f = open('model/lstm_history.pckl', 'wb')\n",
    "    #pickle.dump(hist.history, f)\n",
    "    #f.close() \n",
    "#else:\n",
    "    #lstm = load_model(\"model/lstm_weights.hdf5\")\n"
   ]
  },
  {
   "cell_type": "code",
   "execution_count": 7,
   "id": "86494bbc",
   "metadata": {},
   "outputs": [],
   "source": [
    "blstm_acc = (accuracy_score(predict, target))\n",
    "blstm_prec = precision_score(predict, target,average='weighted')\n",
    "blstm_rec = recall_score(predict, target,average='weighted')\n",
    "blstm_f1 = f1_score(predict, target,average='weighted')"
   ]
  },
  {
   "cell_type": "code",
   "execution_count": 8,
   "id": "b4784a06",
   "metadata": {},
   "outputs": [],
   "source": [
    "storeResults('Existing BERT-LSTM Model',blstm_acc,blstm_prec,blstm_rec,blstm_f1)"
   ]
  },
  {
   "cell_type": "markdown",
   "id": "43bb9c73",
   "metadata": {},
   "source": [
    "# BiGRU"
   ]
  },
  {
   "cell_type": "code",
   "execution_count": 18,
   "id": "0d72da74",
   "metadata": {},
   "outputs": [
    {
     "name": "stdout",
     "output_type": "stream",
     "text": [
      "Epoch 1/35\n",
      "200/200 [==============================] - 13s 15ms/step - loss: 0.6659 - accuracy: 0.5801 - val_loss: 0.6187 - val_accuracy: 0.6612\n",
      "Epoch 2/35\n",
      "200/200 [==============================] - 2s 9ms/step - loss: 0.6098 - accuracy: 0.6778 - val_loss: 0.5951 - val_accuracy: 0.6938\n",
      "Epoch 3/35\n",
      "200/200 [==============================] - 2s 9ms/step - loss: 0.5978 - accuracy: 0.6673 - val_loss: 0.5758 - val_accuracy: 0.7125\n",
      "Epoch 4/35\n",
      "200/200 [==============================] - 2s 9ms/step - loss: 0.5628 - accuracy: 0.7004 - val_loss: 0.5686 - val_accuracy: 0.7050\n",
      "Epoch 5/35\n",
      "200/200 [==============================] - 2s 9ms/step - loss: 0.5524 - accuracy: 0.7182 - val_loss: 0.5819 - val_accuracy: 0.6888\n",
      "Epoch 6/35\n",
      "200/200 [==============================] - 2s 9ms/step - loss: 0.5331 - accuracy: 0.7200 - val_loss: 0.5507 - val_accuracy: 0.7262\n",
      "Epoch 7/35\n",
      "200/200 [==============================] - 2s 9ms/step - loss: 0.5152 - accuracy: 0.7358 - val_loss: 0.5645 - val_accuracy: 0.7038\n",
      "Epoch 8/35\n",
      "200/200 [==============================] - 2s 9ms/step - loss: 0.5012 - accuracy: 0.7491 - val_loss: 0.5524 - val_accuracy: 0.7362\n",
      "Epoch 9/35\n",
      "200/200 [==============================] - 2s 9ms/step - loss: 0.4823 - accuracy: 0.7572 - val_loss: 0.5641 - val_accuracy: 0.7100\n",
      "Epoch 10/35\n",
      "200/200 [==============================] - 2s 9ms/step - loss: 0.4613 - accuracy: 0.7884 - val_loss: 0.5580 - val_accuracy: 0.7275\n",
      "Epoch 11/35\n",
      "200/200 [==============================] - 2s 9ms/step - loss: 0.4613 - accuracy: 0.7689 - val_loss: 0.5552 - val_accuracy: 0.7250\n",
      "Epoch 12/35\n",
      "200/200 [==============================] - 2s 9ms/step - loss: 0.4395 - accuracy: 0.7825 - val_loss: 0.6037 - val_accuracy: 0.7275\n",
      "Epoch 13/35\n",
      "200/200 [==============================] - 2s 9ms/step - loss: 0.4373 - accuracy: 0.7968 - val_loss: 0.6099 - val_accuracy: 0.7000\n",
      "Epoch 14/35\n",
      "200/200 [==============================] - 2s 9ms/step - loss: 0.4109 - accuracy: 0.8070 - val_loss: 0.5829 - val_accuracy: 0.7300\n",
      "Epoch 15/35\n",
      "200/200 [==============================] - 2s 9ms/step - loss: 0.4220 - accuracy: 0.8000 - val_loss: 0.6523 - val_accuracy: 0.7250\n",
      "Epoch 16/35\n",
      "200/200 [==============================] - 2s 9ms/step - loss: 0.3684 - accuracy: 0.8264 - val_loss: 0.6195 - val_accuracy: 0.7225\n",
      "Epoch 17/35\n",
      "200/200 [==============================] - 2s 9ms/step - loss: 0.3312 - accuracy: 0.8550 - val_loss: 0.6486 - val_accuracy: 0.7188\n",
      "Epoch 18/35\n",
      "200/200 [==============================] - 2s 9ms/step - loss: 0.3298 - accuracy: 0.8614 - val_loss: 0.6960 - val_accuracy: 0.7113\n",
      "Epoch 19/35\n",
      "200/200 [==============================] - 2s 9ms/step - loss: 0.3079 - accuracy: 0.8658 - val_loss: 0.6823 - val_accuracy: 0.7212\n",
      "Epoch 20/35\n",
      "200/200 [==============================] - 2s 9ms/step - loss: 0.2841 - accuracy: 0.8789 - val_loss: 0.7998 - val_accuracy: 0.7225\n",
      "Epoch 21/35\n",
      "200/200 [==============================] - 2s 9ms/step - loss: 0.2549 - accuracy: 0.8960 - val_loss: 0.8035 - val_accuracy: 0.6988\n",
      "Epoch 22/35\n",
      "200/200 [==============================] - 2s 9ms/step - loss: 0.2535 - accuracy: 0.8910 - val_loss: 0.8736 - val_accuracy: 0.7225\n",
      "Epoch 23/35\n",
      "200/200 [==============================] - 2s 9ms/step - loss: 0.2405 - accuracy: 0.8959 - val_loss: 0.8550 - val_accuracy: 0.7075\n",
      "Epoch 24/35\n",
      "200/200 [==============================] - 2s 9ms/step - loss: 0.2123 - accuracy: 0.9165 - val_loss: 0.9194 - val_accuracy: 0.7000\n",
      "Epoch 25/35\n",
      "200/200 [==============================] - 2s 9ms/step - loss: 0.1789 - accuracy: 0.9274 - val_loss: 0.9475 - val_accuracy: 0.7138\n",
      "Epoch 26/35\n",
      "200/200 [==============================] - 2s 9ms/step - loss: 0.1743 - accuracy: 0.9332 - val_loss: 1.0302 - val_accuracy: 0.7125\n",
      "Epoch 27/35\n",
      "200/200 [==============================] - 2s 9ms/step - loss: 0.1593 - accuracy: 0.9356 - val_loss: 1.1903 - val_accuracy: 0.7013\n",
      "Epoch 28/35\n",
      "200/200 [==============================] - 2s 9ms/step - loss: 0.1321 - accuracy: 0.9470 - val_loss: 1.2233 - val_accuracy: 0.6737\n",
      "Epoch 29/35\n",
      "200/200 [==============================] - 2s 9ms/step - loss: 0.1418 - accuracy: 0.9379 - val_loss: 1.1415 - val_accuracy: 0.7038\n",
      "Epoch 30/35\n",
      "200/200 [==============================] - 2s 9ms/step - loss: 0.1332 - accuracy: 0.9431 - val_loss: 1.3018 - val_accuracy: 0.7063\n",
      "Epoch 31/35\n",
      "200/200 [==============================] - 2s 9ms/step - loss: 0.1118 - accuracy: 0.9570 - val_loss: 1.3601 - val_accuracy: 0.6925\n",
      "Epoch 32/35\n",
      "200/200 [==============================] - 2s 9ms/step - loss: 0.0887 - accuracy: 0.9677 - val_loss: 1.4088 - val_accuracy: 0.7088\n",
      "Epoch 33/35\n",
      "200/200 [==============================] - 2s 9ms/step - loss: 0.0868 - accuracy: 0.9656 - val_loss: 1.4877 - val_accuracy: 0.6975\n",
      "Epoch 34/35\n",
      "200/200 [==============================] - 2s 9ms/step - loss: 0.0753 - accuracy: 0.9731 - val_loss: 1.5268 - val_accuracy: 0.7013\n",
      "Epoch 35/35\n",
      "200/200 [==============================] - 2s 9ms/step - loss: 0.0721 - accuracy: 0.9724 - val_loss: 1.6065 - val_accuracy: 0.6988\n"
     ]
    }
   ],
   "source": [
    "#now train propose BERT-BiGRU algorithm\n",
    "gru_bilstm = Sequential() #defining deep learning sequential object\n",
    "#adding GRU layer with 32 filters to filter given input X train data to select relevant features\n",
    "gru_bilstm.add(Bidirectional(GRU(32, input_shape=(X_train.shape[1], X_train.shape[2]), return_sequences=True)))\n",
    "#adding dropout layer to remove irrelevant features\n",
    "gru_bilstm.add(Dropout(0.3))\n",
    "#adding another layer\n",
    "gru_bilstm.add(Bidirectional(GRU(32)))#adding bidirectional-GRU layer and peform training on X_train Bert data\n",
    "gru_bilstm.add(Dropout(0.3))\n",
    "#defining output layer for prediction\n",
    "gru_bilstm.add(Dense(y_train.shape[1], activation='softmax'))\n",
    "#compile GRU model\n",
    "gru_bilstm.compile(loss='categorical_crossentropy', optimizer='adam', metrics=['accuracy'])\n",
    "#start training model on train data and perform validation on test data\n",
    "#if os.path.exists(\"model/bigru_weights.hdf5\") == False:\n",
    "    #model_check_point = ModelCheckpoint(filepath='model/bigru_weights.hdf5', verbose = 1, save_best_only = True)\n",
    "hist = gru_bilstm.fit(X_train, y_train, batch_size = 16, epochs = 35, validation_data=(X_test, y_test), verbose=1)\n",
    "    #f = open('model/bigru_history.pckl', 'wb')\n",
    "    #pickle.dump(hist.history, f)\n",
    "    #f.close() \n",
    "#else:\n",
    "    #gru_bilstm = load_model(\"model/bigru_weights.hdf5\")\n"
   ]
  },
  {
   "cell_type": "code",
   "execution_count": 9,
   "id": "f83827ac",
   "metadata": {},
   "outputs": [],
   "source": [
    "blstm_acc = (accuracy_score(predict, target))\n",
    "blstm_prec = precision_score(predict, target,average='weighted')\n",
    "blstm_rec = recall_score(predict, target,average='weighted')\n",
    "blstm_f1 = f1_score(predict, target,average='weighted')"
   ]
  },
  {
   "cell_type": "code",
   "execution_count": 10,
   "id": "afcce543",
   "metadata": {},
   "outputs": [],
   "source": [
    "storeResults('Propose BERT-Bi-GRU Model',blstm_acc,blstm_prec,blstm_rec,blstm_f1)"
   ]
  },
  {
   "cell_type": "markdown",
   "id": "1990c763",
   "metadata": {},
   "source": [
    "# Extension BERT-CNN-Bi-GRU Model"
   ]
  },
  {
   "cell_type": "code",
   "execution_count": 23,
   "id": "25f05f23",
   "metadata": {},
   "outputs": [
    {
     "name": "stdout",
     "output_type": "stream",
     "text": [
      "WARNING:tensorflow:Layer gru_2 will not use cuDNN kernels since it doesn't meet the criteria. It will use a generic GPU kernel as fallback when running on GPU.\n",
      "WARNING:tensorflow:Layer gru_2 will not use cuDNN kernels since it doesn't meet the criteria. It will use a generic GPU kernel as fallback when running on GPU.\n",
      "WARNING:tensorflow:Layer gru_2 will not use cuDNN kernels since it doesn't meet the criteria. It will use a generic GPU kernel as fallback when running on GPU.\n",
      "Epoch 1/35\n",
      "200/200 [==============================] - 10s 16ms/step - loss: 0.6786 - accuracy: 0.5729 - val_loss: 0.6335 - val_accuracy: 0.6650\n",
      "Epoch 2/35\n",
      "200/200 [==============================] - 3s 13ms/step - loss: 0.6335 - accuracy: 0.6635 - val_loss: 0.6073 - val_accuracy: 0.6925\n",
      "Epoch 3/35\n",
      "200/200 [==============================] - 3s 13ms/step - loss: 0.5999 - accuracy: 0.6977 - val_loss: 0.6055 - val_accuracy: 0.6750\n",
      "Epoch 4/35\n",
      "200/200 [==============================] - 3s 13ms/step - loss: 0.5609 - accuracy: 0.7376 - val_loss: 0.5881 - val_accuracy: 0.6938\n",
      "Epoch 5/35\n",
      "200/200 [==============================] - 3s 13ms/step - loss: 0.5478 - accuracy: 0.7366 - val_loss: 0.6069 - val_accuracy: 0.6938\n",
      "Epoch 6/35\n",
      "200/200 [==============================] - 3s 13ms/step - loss: 0.5036 - accuracy: 0.7786 - val_loss: 0.6125 - val_accuracy: 0.6963\n",
      "Epoch 7/35\n",
      "200/200 [==============================] - 3s 13ms/step - loss: 0.4733 - accuracy: 0.8080 - val_loss: 0.5720 - val_accuracy: 0.7212\n",
      "Epoch 8/35\n",
      "200/200 [==============================] - 3s 13ms/step - loss: 0.4485 - accuracy: 0.8249 - val_loss: 0.6119 - val_accuracy: 0.6875\n",
      "Epoch 9/35\n",
      "200/200 [==============================] - 3s 13ms/step - loss: 0.4211 - accuracy: 0.8407 - val_loss: 0.6033 - val_accuracy: 0.7025\n",
      "Epoch 10/35\n",
      "200/200 [==============================] - 3s 13ms/step - loss: 0.3950 - accuracy: 0.8543 - val_loss: 0.6448 - val_accuracy: 0.6875\n",
      "Epoch 11/35\n",
      "200/200 [==============================] - 3s 13ms/step - loss: 0.3753 - accuracy: 0.8668 - val_loss: 0.6814 - val_accuracy: 0.6850\n",
      "Epoch 12/35\n",
      "200/200 [==============================] - 3s 13ms/step - loss: 0.3502 - accuracy: 0.8742 - val_loss: 0.6238 - val_accuracy: 0.7225\n",
      "Epoch 13/35\n",
      "200/200 [==============================] - 3s 13ms/step - loss: 0.3270 - accuracy: 0.8838 - val_loss: 0.6667 - val_accuracy: 0.7025\n",
      "Epoch 14/35\n",
      "200/200 [==============================] - 2s 13ms/step - loss: 0.3021 - accuracy: 0.8996 - val_loss: 0.6893 - val_accuracy: 0.7000\n",
      "Epoch 15/35\n",
      "200/200 [==============================] - 3s 13ms/step - loss: 0.2896 - accuracy: 0.9005 - val_loss: 0.6957 - val_accuracy: 0.6988\n",
      "Epoch 16/35\n",
      "200/200 [==============================] - 2s 12ms/step - loss: 0.2700 - accuracy: 0.9160 - val_loss: 0.7314 - val_accuracy: 0.7113\n",
      "Epoch 17/35\n",
      "200/200 [==============================] - 3s 13ms/step - loss: 0.2612 - accuracy: 0.9158 - val_loss: 0.7254 - val_accuracy: 0.7212\n",
      "Epoch 18/35\n",
      "200/200 [==============================] - 3s 13ms/step - loss: 0.2449 - accuracy: 0.9249 - val_loss: 0.7464 - val_accuracy: 0.7075\n",
      "Epoch 19/35\n",
      "200/200 [==============================] - 3s 13ms/step - loss: 0.2148 - accuracy: 0.9332 - val_loss: 0.7702 - val_accuracy: 0.7063\n",
      "Epoch 20/35\n",
      "200/200 [==============================] - 3s 13ms/step - loss: 0.2183 - accuracy: 0.9341 - val_loss: 0.7572 - val_accuracy: 0.7075\n",
      "Epoch 21/35\n",
      "200/200 [==============================] - 3s 13ms/step - loss: 0.1735 - accuracy: 0.9532 - val_loss: 0.7646 - val_accuracy: 0.7038\n",
      "Epoch 22/35\n",
      "200/200 [==============================] - 3s 13ms/step - loss: 0.1913 - accuracy: 0.9479 - val_loss: 0.7875 - val_accuracy: 0.7050\n",
      "Epoch 23/35\n",
      "200/200 [==============================] - 3s 13ms/step - loss: 0.1839 - accuracy: 0.9496 - val_loss: 0.8153 - val_accuracy: 0.6975\n",
      "Epoch 24/35\n",
      "200/200 [==============================] - 2s 13ms/step - loss: 0.1533 - accuracy: 0.9618 - val_loss: 0.8611 - val_accuracy: 0.7113\n",
      "Epoch 25/35\n",
      "200/200 [==============================] - 3s 13ms/step - loss: 0.2096 - accuracy: 0.9352 - val_loss: 0.8201 - val_accuracy: 0.7188\n",
      "Epoch 26/35\n",
      "200/200 [==============================] - 3s 13ms/step - loss: 0.1738 - accuracy: 0.9504 - val_loss: 0.8166 - val_accuracy: 0.7113\n",
      "Epoch 27/35\n",
      "200/200 [==============================] - 3s 13ms/step - loss: 0.1712 - accuracy: 0.9499 - val_loss: 0.8124 - val_accuracy: 0.7188\n",
      "Epoch 28/35\n",
      "200/200 [==============================] - 3s 13ms/step - loss: 0.1536 - accuracy: 0.9589 - val_loss: 0.8538 - val_accuracy: 0.7038\n",
      "Epoch 29/35\n",
      "200/200 [==============================] - 3s 13ms/step - loss: 0.1693 - accuracy: 0.9541 - val_loss: 0.8701 - val_accuracy: 0.7025\n",
      "Epoch 30/35\n",
      "200/200 [==============================] - 3s 13ms/step - loss: 0.1364 - accuracy: 0.9665 - val_loss: 0.8851 - val_accuracy: 0.7100\n",
      "Epoch 31/35\n",
      "200/200 [==============================] - 3s 13ms/step - loss: 0.1339 - accuracy: 0.9666 - val_loss: 0.8830 - val_accuracy: 0.7163\n",
      "Epoch 32/35\n",
      "200/200 [==============================] - 3s 13ms/step - loss: 0.1570 - accuracy: 0.9575 - val_loss: 0.8932 - val_accuracy: 0.7150\n",
      "Epoch 33/35\n",
      "200/200 [==============================] - 2s 12ms/step - loss: 0.1286 - accuracy: 0.9697 - val_loss: 0.8849 - val_accuracy: 0.7050\n",
      "Epoch 34/35\n",
      "200/200 [==============================] - 3s 13ms/step - loss: 0.1399 - accuracy: 0.9630 - val_loss: 0.8899 - val_accuracy: 0.7013\n",
      "Epoch 35/35\n",
      "200/200 [==============================] - 2s 12ms/step - loss: 0.1341 - accuracy: 0.9689 - val_loss: 0.9334 - val_accuracy: 0.7175\n"
     ]
    }
   ],
   "source": [
    "#now define extension model by combining two different models called BERT + CNN + BiGRU models as this CNN + bi-lstm will \n",
    "#optimized features from both forward and backward direction so it will have more optimzied features and accuracy will be better\n",
    "extension_model = Sequential()\n",
    "#defining CNN layer\n",
    "extension_model.add(Conv1D(filters=32, kernel_size = 15, activation = 'relu', input_shape = (X_train.shape[1], X_train.shape[2])))\n",
    "extension_model.add(Conv1D(filters=16, kernel_size = 12, activation = 'relu'))\n",
    "#adding maxpool layer\n",
    "extension_model.add(MaxPooling1D(pool_size = 2))\n",
    "extension_model.add(Dropout(0.3))\n",
    "extension_model.add(Flatten())\n",
    "extension_model.add(RepeatVector(2))\n",
    "#adding bidirectional + GRU to CNN layer\n",
    "extension_model.add(Bidirectional(GRU(24, activation = 'relu')))\n",
    "extension_model.add(Dropout(0.3))\n",
    "#defining output layer\n",
    "extension_model.add(Dense(units = 33, activation = 'softmax'))\n",
    "extension_model.add(Dense(units = y_train.shape[1], activation = 'softmax'))\n",
    "#compile and train the model\n",
    "extension_model.compile(optimizer = 'adam', loss = 'categorical_crossentropy', metrics = ['accuracy'])\n",
    "#if os.path.exists(\"model/extension_weights.hdf5\") == False:\n",
    "    #model_check_point = ModelCheckpoint(filepath='model/extension_weights.hdf5', verbose = 1, save_best_only = True)\n",
    "hist = extension_model.fit(X_train, y_train, batch_size = 16, epochs = 35, validation_data=(X_test, y_test), verbose=1)\n",
    "    #f = open('model/extension_history.pckl', 'wb')\n",
    "    #pickle.dump(hist.history, f)\n",
    "    #f.close()    \n",
    "#else:\n",
    "    #extension_model = load_model(\"model/extension_weights.hdf5\")\n",
    "#perform prediction on test data using bidirectional LSTM on test data   "
   ]
  },
  {
   "cell_type": "code",
   "execution_count": 11,
   "id": "1d114754",
   "metadata": {},
   "outputs": [],
   "source": [
    "blstm_acc = (accuracy_score(predict, target))\n",
    "blstm_prec = precision_score(predict, target,average='weighted')\n",
    "blstm_rec = recall_score(predict, target,average='weighted')\n",
    "blstm_f1 = f1_score(predict, target,average='weighted')\n",
    "\n"
   ]
  },
  {
   "cell_type": "code",
   "execution_count": 12,
   "id": "714ff79d",
   "metadata": {},
   "outputs": [],
   "source": [
    "storeResults('Extension BERT-CNN-Bi-GRU Model',blstm_acc,blstm_prec,blstm_rec,blstm_f1)"
   ]
  },
  {
   "cell_type": "markdown",
   "id": "9cf6dd87",
   "metadata": {},
   "source": [
    "# LSTM + GRU"
   ]
  },
  {
   "cell_type": "code",
   "execution_count": 26,
   "id": "cc905ecc",
   "metadata": {},
   "outputs": [
    {
     "name": "stdout",
     "output_type": "stream",
     "text": [
      "Epoch 1/35\n",
      "1600/1600 [==============================] - 19s 9ms/step - loss: 0.6614 - accuracy: 0.6029 - val_loss: 0.6004 - val_accuracy: 0.6862\n",
      "Epoch 2/35\n",
      "1600/1600 [==============================] - 13s 8ms/step - loss: 0.5890 - accuracy: 0.6834 - val_loss: 0.5980 - val_accuracy: 0.6850\n",
      "Epoch 3/35\n",
      "1600/1600 [==============================] - 13s 8ms/step - loss: 0.5583 - accuracy: 0.7158 - val_loss: 0.5555 - val_accuracy: 0.7250\n",
      "Epoch 4/35\n",
      "1600/1600 [==============================] - 13s 8ms/step - loss: 0.5329 - accuracy: 0.7330 - val_loss: 0.5514 - val_accuracy: 0.7250\n",
      "Epoch 5/35\n",
      "1600/1600 [==============================] - 13s 8ms/step - loss: 0.5223 - accuracy: 0.7384 - val_loss: 0.5530 - val_accuracy: 0.7212\n",
      "Epoch 6/35\n",
      "1600/1600 [==============================] - 13s 8ms/step - loss: 0.4780 - accuracy: 0.7762 - val_loss: 0.5471 - val_accuracy: 0.7225\n",
      "Epoch 7/35\n",
      "1600/1600 [==============================] - 13s 8ms/step - loss: 0.4457 - accuracy: 0.7942 - val_loss: 0.5479 - val_accuracy: 0.7450\n",
      "Epoch 8/35\n",
      "1600/1600 [==============================] - 13s 8ms/step - loss: 0.4161 - accuracy: 0.8121 - val_loss: 0.5970 - val_accuracy: 0.7487\n",
      "Epoch 9/35\n",
      "1600/1600 [==============================] - 13s 8ms/step - loss: 0.3926 - accuracy: 0.8147 - val_loss: 0.6134 - val_accuracy: 0.7287\n",
      "Epoch 10/35\n",
      "1600/1600 [==============================] - 13s 8ms/step - loss: 0.3339 - accuracy: 0.8523 - val_loss: 0.7181 - val_accuracy: 0.7163\n",
      "Epoch 11/35\n",
      "1600/1600 [==============================] - 13s 8ms/step - loss: 0.2977 - accuracy: 0.8656 - val_loss: 0.7192 - val_accuracy: 0.7038\n",
      "Epoch 12/35\n",
      "1600/1600 [==============================] - 13s 8ms/step - loss: 0.2566 - accuracy: 0.8926 - val_loss: 0.7835 - val_accuracy: 0.7287\n",
      "Epoch 13/35\n",
      "1600/1600 [==============================] - 13s 8ms/step - loss: 0.2331 - accuracy: 0.9094 - val_loss: 0.8306 - val_accuracy: 0.7138\n",
      "Epoch 14/35\n",
      "1600/1600 [==============================] - 13s 8ms/step - loss: 0.1793 - accuracy: 0.9302 - val_loss: 0.9941 - val_accuracy: 0.7075\n",
      "Epoch 15/35\n",
      "1600/1600 [==============================] - 13s 8ms/step - loss: 0.1765 - accuracy: 0.9249 - val_loss: 1.1000 - val_accuracy: 0.6875\n",
      "Epoch 16/35\n",
      "1600/1600 [==============================] - 13s 8ms/step - loss: 0.1568 - accuracy: 0.9401 - val_loss: 1.1247 - val_accuracy: 0.7038\n",
      "Epoch 17/35\n",
      "1600/1600 [==============================] - 13s 8ms/step - loss: 0.1159 - accuracy: 0.9571 - val_loss: 1.3302 - val_accuracy: 0.6900\n",
      "Epoch 18/35\n",
      "1600/1600 [==============================] - 13s 8ms/step - loss: 0.1184 - accuracy: 0.9533 - val_loss: 1.3583 - val_accuracy: 0.6837\n",
      "Epoch 19/35\n",
      "1600/1600 [==============================] - 13s 8ms/step - loss: 0.1062 - accuracy: 0.9609 - val_loss: 1.3431 - val_accuracy: 0.6913\n",
      "Epoch 20/35\n",
      "1600/1600 [==============================] - 13s 8ms/step - loss: 0.0842 - accuracy: 0.9679 - val_loss: 1.6052 - val_accuracy: 0.6925\n",
      "Epoch 21/35\n",
      "1600/1600 [==============================] - 13s 8ms/step - loss: 0.0682 - accuracy: 0.9721 - val_loss: 1.4342 - val_accuracy: 0.7138\n",
      "Epoch 22/35\n",
      "1600/1600 [==============================] - 13s 8ms/step - loss: 0.0779 - accuracy: 0.9699 - val_loss: 1.4715 - val_accuracy: 0.7088\n",
      "Epoch 23/35\n",
      "1600/1600 [==============================] - 13s 8ms/step - loss: 0.0558 - accuracy: 0.9791 - val_loss: 1.6922 - val_accuracy: 0.6950\n",
      "Epoch 24/35\n",
      "1600/1600 [==============================] - 13s 8ms/step - loss: 0.0661 - accuracy: 0.9757 - val_loss: 1.5879 - val_accuracy: 0.6900\n",
      "Epoch 25/35\n",
      "1600/1600 [==============================] - 13s 8ms/step - loss: 0.0505 - accuracy: 0.9810 - val_loss: 1.7653 - val_accuracy: 0.7038\n",
      "Epoch 26/35\n",
      "1600/1600 [==============================] - 13s 8ms/step - loss: 0.0501 - accuracy: 0.9849 - val_loss: 1.8068 - val_accuracy: 0.7063\n",
      "Epoch 27/35\n",
      "1600/1600 [==============================] - 13s 8ms/step - loss: 0.0466 - accuracy: 0.9818 - val_loss: 1.9100 - val_accuracy: 0.6737\n",
      "Epoch 28/35\n",
      "1600/1600 [==============================] - 13s 8ms/step - loss: 0.0440 - accuracy: 0.9847 - val_loss: 1.8607 - val_accuracy: 0.6862\n",
      "Epoch 29/35\n",
      "1600/1600 [==============================] - 13s 8ms/step - loss: 0.0543 - accuracy: 0.9816 - val_loss: 2.0217 - val_accuracy: 0.6900\n",
      "Epoch 30/35\n",
      "1600/1600 [==============================] - 13s 8ms/step - loss: 0.0685 - accuracy: 0.9775 - val_loss: 2.0260 - val_accuracy: 0.6950\n",
      "Epoch 31/35\n",
      "1600/1600 [==============================] - 13s 8ms/step - loss: 0.0440 - accuracy: 0.9865 - val_loss: 1.8896 - val_accuracy: 0.7013\n",
      "Epoch 32/35\n",
      "1600/1600 [==============================] - 13s 8ms/step - loss: 0.0387 - accuracy: 0.9861 - val_loss: 2.0752 - val_accuracy: 0.6950\n",
      "Epoch 33/35\n",
      "1600/1600 [==============================] - 13s 8ms/step - loss: 0.0502 - accuracy: 0.9825 - val_loss: 1.7967 - val_accuracy: 0.6787\n",
      "Epoch 34/35\n",
      "1600/1600 [==============================] - 13s 8ms/step - loss: 0.0522 - accuracy: 0.9791 - val_loss: 1.9177 - val_accuracy: 0.6963\n",
      "Epoch 35/35\n",
      "1600/1600 [==============================] - 13s 8ms/step - loss: 0.0356 - accuracy: 0.9889 - val_loss: 2.0552 - val_accuracy: 0.6800\n"
     ]
    }
   ],
   "source": [
    "#now train propose BERT-BiGRU algorithm\n",
    "lstmgru = Sequential() #defining deep learning sequential object\n",
    "#adding GRU layer with 32 filters to filter given input X train data to select relevant features\n",
    "lstmgru.add(Bidirectional(LSTM(32, input_shape=(X_train.shape[1], X_train.shape[2]), return_sequences=True)))\n",
    "#adding dropout layer to remove irrelevant features\n",
    "lstmgru.add(Dropout(0.3))\n",
    "#adding another layer\n",
    "lstmgru.add(Bidirectional(GRU(32)))#adding bidirectional-GRU layer and peform training on X_train Bert data\n",
    "lstmgru.add(Dropout(0.3))\n",
    "#defining output layer for prediction\n",
    "lstmgru.add(Dense(y_train.shape[1], activation='softmax'))\n",
    "#compile GRU model\n",
    "lstmgru.compile(loss='categorical_crossentropy', optimizer='adam', metrics=['accuracy'])\n",
    "#start training model on train data and perform validation on test data\n",
    "#if os.path.exists(\"model/bigru_weights.hdf5\") == False:\n",
    "    #model_check_point = ModelCheckpoint(filepath='model/bigru_weights.hdf5', verbose = 1, save_best_only = True)\n",
    "hist = lstmgru.fit(X_train, y_train, batch_size = 2, epochs = 35, validation_data=(X_test, y_test), verbose=1)\n",
    "    #f = open('model/bigru_history.pckl', 'wb')\n",
    "    #pickle.dump(hist.history, f)\n",
    "    #f.close() \n",
    "#else:\n",
    "    #gru_bilstm = load_model(\"model/bigru_weights.hdf5\")\n"
   ]
  },
  {
   "cell_type": "code",
   "execution_count": 13,
   "id": "f0faef39",
   "metadata": {},
   "outputs": [],
   "source": [
    "blstm_acc = (accuracy_score(predict, target))\n",
    "blstm_prec = precision_score(predict, target,average='weighted')\n",
    "blstm_rec = recall_score(predict, target,average='weighted')\n",
    "blstm_f1 = f1_score(predict, target,average='weighted')\n",
    "\n",
    "storeResults('Extension BERT-LSTM-GRU Model',blstm_acc,blstm_prec,blstm_rec,blstm_f1)"
   ]
  },
  {
   "cell_type": "markdown",
   "id": "f8916395",
   "metadata": {},
   "source": [
    "# GRU"
   ]
  },
  {
   "cell_type": "code",
   "execution_count": 32,
   "id": "93309ffb",
   "metadata": {},
   "outputs": [],
   "source": [
    "from tensorflow.keras.callbacks import ReduceLROnPlateau\n",
    "from tensorflow.keras.optimizers import Adam,SGD,Adagrad,Adadelta,RMSprop\n",
    "import os\n",
    "from tensorflow.keras.models import Model\n",
    "from tensorflow.keras.regularizers import l2\n",
    "from tensorflow.keras.layers import LSTM, GRU, Bidirectional\n",
    "\n",
    "import tensorflow as tf\n",
    "from tensorflow.keras.preprocessing.text import Tokenizer\n",
    "from tensorflow.keras.preprocessing.sequence import pad_sequences\n",
    "from tensorflow.keras import layers, callbacks\n",
    "from tensorflow.keras import Model, Sequential\n",
    "from tensorflow.keras.layers import Embedding\n",
    "\n",
    "from kerastuner import RandomSearch\n",
    "from kerastuner.engine.hyperparameters import HyperParameters"
   ]
  },
  {
   "cell_type": "code",
   "execution_count": 15,
   "id": "564450a9",
   "metadata": {},
   "outputs": [],
   "source": [
    "import collections\n",
    "import nltk\n",
    "from sklearn import preprocessing\n",
    "from nltk.tokenize import sent_tokenize, word_tokenize\n",
    "from tensorflow.keras import regularizers"
   ]
  },
  {
   "cell_type": "code",
   "execution_count": 16,
   "id": "b3317a8a",
   "metadata": {},
   "outputs": [],
   "source": [
    "#Setting parameters which will be used throughout\n",
    "num_words = 15000  # Parameter indicating the number of words we'll put in the dictionary\n",
    "val_size = 1000  # Size of the validation set\n",
    "#epochs = 20  # Number of epochs we usually start to train with\n",
    "batch_size = 2  # Size of the batches used in the mini-batch gradient descent\n",
    "#Taking only two columns since it's a sentiment analysis"
   ]
  },
  {
   "cell_type": "code",
   "execution_count": 39,
   "id": "17c86f04",
   "metadata": {},
   "outputs": [],
   "source": [
    "#tweets conssits of every document as an array of tokenized words which are later appended to docs \n",
    "tweets=[word_tokenize(tweet) for tweet in dataset['content']]\n",
    "docs=[]\n",
    "for j in range(0,len(tweets)):\n",
    "    docs.append(tweets[j])"
   ]
  },
  {
   "cell_type": "code",
   "execution_count": 40,
   "id": "145fb0e2",
   "metadata": {},
   "outputs": [],
   "source": [
    "#stops included both the stopwords and punctuations\n",
    "from nltk.corpus import stopwords\n",
    "import string\n",
    "stops = set(stopwords.words('english'))\n",
    "punctuations = list(string.punctuation)\n",
    "not_list = [\"n't\", \"not\", \"no\"]\n",
    "stops.update(punctuations)\n",
    "stops.update(not_list)"
   ]
  },
  {
   "cell_type": "code",
   "execution_count": 41,
   "id": "29a8103b",
   "metadata": {},
   "outputs": [],
   "source": [
    "#to get the simple pos(part of speech) tag\n",
    "from nltk.corpus import wordnet\n",
    "def get_simple_pos(tag):\n",
    "    if tag.startswith('J'):\n",
    "        return wordnet.ADJ\n",
    "    elif tag.startswith('V'):\n",
    "        return wordnet.VERB\n",
    "    elif tag.startswith('N'):\n",
    "        return wordnet.NOUN\n",
    "    elif tag.startswith('R'):\n",
    "        return wordnet.ADV\n",
    "    else:\n",
    "        return wordnet.NOUN"
   ]
  },
  {
   "cell_type": "code",
   "execution_count": 42,
   "id": "a768579a",
   "metadata": {},
   "outputs": [],
   "source": [
    "#to get the pos tag for a word\n",
    "from nltk import pos_tag\n",
    "# now we are going to clean our data \n",
    "# we will remove stopwords and punctuations and lemmatize each document\n",
    "from nltk.stem import WordNetLemmatizer\n",
    "lemmatizer=WordNetLemmatizer()\n",
    "def clean(words):\n",
    "    output=[]\n",
    "    for word in words:\n",
    "        if word.lower() not in stops or word.lower() in not_list:\n",
    "            pos=pos_tag(word)\n",
    "            clean_word=lemmatizer.lemmatize(word,pos=get_simple_pos(pos[0][1]))\n",
    "            output.append(clean_word.lower())\n",
    "    str1=\" \".join(output).encode('utf-8')        \n",
    "    return str1\n",
    "#docs=[ clean(doc) for doc in docs]      "
   ]
  },
  {
   "cell_type": "code",
   "execution_count": 43,
   "id": "163e3103",
   "metadata": {},
   "outputs": [],
   "source": [
    "#taking variables to be used for train test split as X,y\n",
    "X,Y=dataset['content'].values,pd.get_dummies(dataset['label'].values)"
   ]
  },
  {
   "cell_type": "code",
   "execution_count": 44,
   "id": "cd510d68",
   "metadata": {},
   "outputs": [
    {
     "name": "stdout",
     "output_type": "stream",
     "text": [
      "Fitted tokenizer on 200 documents\n",
      "15000 words in dictionary\n",
      "Top 5 most common words are: [('the', 656), ('and', 370), ('to', 332), ('a', 285), ('of', 228)]\n"
     ]
    }
   ],
   "source": [
    "#using tokenizers to create the tokens having no of words=15000(num_words)\n",
    "tk = Tokenizer(num_words=num_words,\n",
    "               filters='!\"#$%&()*+,-./:;<=>?@[\\\\]^_`{|}~\\t\\n',\n",
    "               lower=True,\n",
    "               split=\" \")\n",
    "#Complete data is tokenized to vectors and padding is done using zeros to match its length to the largest text in the dataset.\n",
    "tk.fit_on_texts(X)\n",
    "X = tk.texts_to_sequences(X)\n",
    "X = pad_sequences(X)\n",
    "#print(X[:2])\n",
    "print('Fitted tokenizer on {} documents'.format(tk.document_count))\n",
    "print('{} words in dictionary'.format(tk.num_words))\n",
    "print('Top 5 most common words are:', collections.Counter(tk.word_counts).most_common(5))"
   ]
  },
  {
   "cell_type": "code",
   "execution_count": 45,
   "id": "ae6f3f9c",
   "metadata": {},
   "outputs": [],
   "source": [
    "import pickle\n",
    "pickle.dump(tk,open('transform.pkl','wb'))"
   ]
  },
  {
   "cell_type": "code",
   "execution_count": 50,
   "id": "2f54f7e2",
   "metadata": {},
   "outputs": [],
   "source": [
    "#train test split\n",
    "X_train, X_test, Y_train, Y_test = train_test_split(X,Y, test_size=0.1, random_state=42)"
   ]
  },
  {
   "cell_type": "code",
   "execution_count": 47,
   "id": "d06b5ceb",
   "metadata": {},
   "outputs": [],
   "source": [
    "from keras import backend as K\n",
    "\n",
    "def recall_m(y_true, y_pred):\n",
    "    true_positives = K.sum(K.round(K.clip(y_true * y_pred, 0, 1)))\n",
    "    possible_positives = K.sum(K.round(K.clip(y_true, 0, 1)))\n",
    "    recall = true_positives / (possible_positives + K.epsilon())\n",
    "    return recall\n",
    "\n",
    "def precision_m(y_true, y_pred):\n",
    "    true_positives = K.sum(K.round(K.clip(y_true * y_pred, 0, 1)))\n",
    "    predicted_positives = K.sum(K.round(K.clip(y_pred, 0, 1)))\n",
    "    precision = true_positives / (predicted_positives + K.epsilon())\n",
    "    return precision\n",
    "\n",
    "def f1_m(y_true, y_pred):\n",
    "    precision = precision_m(y_true, y_pred)\n",
    "    recall = recall_m(y_true, y_pred)\n",
    "    return 2*((precision*recall)/(precision+recall+K.epsilon()))"
   ]
  },
  {
   "cell_type": "code",
   "execution_count": 59,
   "id": "bb58e910",
   "metadata": {},
   "outputs": [
    {
     "name": "stdout",
     "output_type": "stream",
     "text": [
      "WARNING:tensorflow:Layer gru_6 will not use cuDNN kernels since it doesn't meet the criteria. It will use a generic GPU kernel as fallback when running on GPU.\n"
     ]
    }
   ],
   "source": [
    "embed_dim = 128 #dimension of the word embedding vector for each word in a sequence \n",
    "lstm_out = 196  #no of lstm layers\n",
    "model = Sequential()\n",
    "model.add(Embedding(num_words, embed_dim,input_length = X_train.shape[1]))\n",
    "#Adding dropout\n",
    "model.add(GRU(lstm_out, dropout=0.2, recurrent_dropout=0.2))\n",
    "#Adding a regularized dense layer\n",
    "model.add(layers.Dense(32,kernel_regularizer=regularizers.l2(0.001),activation='relu'))\n",
    "model.add(layers.Dropout(0.5))\n",
    "model.add(Dense(2,activation='softmax'))\n",
    "model.compile(loss = 'categorical_crossentropy', optimizer='adam',metrics = ['accuracy',f1_m,precision_m, recall_m])"
   ]
  },
  {
   "cell_type": "code",
   "execution_count": 60,
   "id": "ac3c9231",
   "metadata": {},
   "outputs": [
    {
     "name": "stdout",
     "output_type": "stream",
     "text": [
      "Model: \"sequential_7\"\n",
      "_________________________________________________________________\n",
      "Layer (type)                 Output Shape              Param #   \n",
      "=================================================================\n",
      "embedding_6 (Embedding)      (None, 429, 128)          1920000   \n",
      "_________________________________________________________________\n",
      "gru_6 (GRU)                  (None, 196)               191688    \n",
      "_________________________________________________________________\n",
      "dense_8 (Dense)              (None, 32)                6304      \n",
      "_________________________________________________________________\n",
      "dropout_12 (Dropout)         (None, 32)                0         \n",
      "_________________________________________________________________\n",
      "module_wrapper_4 (ModuleWrap (None, 2)                 66        \n",
      "=================================================================\n",
      "Total params: 2,118,058\n",
      "Trainable params: 2,118,058\n",
      "Non-trainable params: 0\n",
      "_________________________________________________________________\n"
     ]
    }
   ],
   "source": [
    "model.summary()"
   ]
  },
  {
   "cell_type": "code",
   "execution_count": 61,
   "id": "24de2016",
   "metadata": {},
   "outputs": [
    {
     "name": "stdout",
     "output_type": "stream",
     "text": [
      "Epoch 1/35\n",
      "100/100 [==============================] - 60s 589ms/step - loss: 0.7307 - accuracy: 0.5450 - f1_m: 0.5450 - precision_m: 0.5450 - recall_m: 0.5450 - val_loss: 0.6936 - val_accuracy: 0.5550 - val_f1_m: 0.5550 - val_precision_m: 0.5550 - val_recall_m: 0.5550\n",
      "Epoch 2/35\n",
      "100/100 [==============================] - 59s 590ms/step - loss: 0.6747 - accuracy: 0.7050 - f1_m: 0.7050 - precision_m: 0.7050 - recall_m: 0.7050 - val_loss: 0.4844 - val_accuracy: 0.9550 - val_f1_m: 0.9550 - val_precision_m: 0.9550 - val_recall_m: 0.9550\n",
      "Epoch 3/35\n",
      "100/100 [==============================] - 58s 584ms/step - loss: 0.3193 - accuracy: 0.9100 - f1_m: 0.9100 - precision_m: 0.9100 - recall_m: 0.9100 - val_loss: 0.1270 - val_accuracy: 0.9850 - val_f1_m: 0.9850 - val_precision_m: 0.9850 - val_recall_m: 0.9850\n",
      "Epoch 4/35\n",
      "100/100 [==============================] - 62s 620ms/step - loss: 0.1470 - accuracy: 0.9750 - f1_m: 0.9750 - precision_m: 0.9750 - recall_m: 0.9750 - val_loss: 0.0375 - val_accuracy: 1.0000 - val_f1_m: 1.0000 - val_precision_m: 1.0000 - val_recall_m: 1.0000\n",
      "Epoch 5/35\n",
      "100/100 [==============================] - 64s 643ms/step - loss: 0.0428 - accuracy: 1.0000 - f1_m: 1.0000 - precision_m: 1.0000 - recall_m: 1.0000 - val_loss: 0.0275 - val_accuracy: 1.0000 - val_f1_m: 1.0000 - val_precision_m: 1.0000 - val_recall_m: 1.0000\n",
      "Epoch 6/35\n",
      "100/100 [==============================] - 60s 604ms/step - loss: 0.0301 - accuracy: 1.0000 - f1_m: 1.0000 - precision_m: 1.0000 - recall_m: 1.0000 - val_loss: 0.0242 - val_accuracy: 1.0000 - val_f1_m: 1.0000 - val_precision_m: 1.0000 - val_recall_m: 1.0000\n",
      "Epoch 7/35\n",
      "100/100 [==============================] - 58s 584ms/step - loss: 0.0256 - accuracy: 1.0000 - f1_m: 1.0000 - precision_m: 1.0000 - recall_m: 1.0000 - val_loss: 0.0212 - val_accuracy: 1.0000 - val_f1_m: 1.0000 - val_precision_m: 1.0000 - val_recall_m: 1.0000\n",
      "Epoch 8/35\n",
      "100/100 [==============================] - 59s 592ms/step - loss: 0.0212 - accuracy: 1.0000 - f1_m: 1.0000 - precision_m: 1.0000 - recall_m: 1.0000 - val_loss: 0.0183 - val_accuracy: 1.0000 - val_f1_m: 1.0000 - val_precision_m: 1.0000 - val_recall_m: 1.0000\n",
      "Epoch 9/35\n",
      "100/100 [==============================] - 58s 584ms/step - loss: 0.0178 - accuracy: 1.0000 - f1_m: 1.0000 - precision_m: 1.0000 - recall_m: 1.0000 - val_loss: 0.0156 - val_accuracy: 1.0000 - val_f1_m: 1.0000 - val_precision_m: 1.0000 - val_recall_m: 1.0000\n",
      "Epoch 10/35\n",
      "100/100 [==============================] - 58s 584ms/step - loss: 0.0158 - accuracy: 1.0000 - f1_m: 1.0000 - precision_m: 1.0000 - recall_m: 1.0000 - val_loss: 0.0138 - val_accuracy: 1.0000 - val_f1_m: 1.0000 - val_precision_m: 1.0000 - val_recall_m: 1.0000\n",
      "Epoch 11/35\n",
      "100/100 [==============================] - 66s 661ms/step - loss: 0.1178 - accuracy: 0.9750 - f1_m: 0.9750 - precision_m: 0.9750 - recall_m: 0.9750 - val_loss: 0.0284 - val_accuracy: 1.0000 - val_f1_m: 1.0000 - val_precision_m: 1.0000 - val_recall_m: 1.0000\n",
      "Epoch 12/35\n",
      "100/100 [==============================] - 62s 622ms/step - loss: 0.0305 - accuracy: 1.0000 - f1_m: 1.0000 - precision_m: 1.0000 - recall_m: 1.0000 - val_loss: 0.0183 - val_accuracy: 1.0000 - val_f1_m: 1.0000 - val_precision_m: 1.0000 - val_recall_m: 1.0000\n",
      "Epoch 13/35\n",
      "100/100 [==============================] - 58s 586ms/step - loss: 0.0229 - accuracy: 1.0000 - f1_m: 1.0000 - precision_m: 1.0000 - recall_m: 1.0000 - val_loss: 0.0159 - val_accuracy: 1.0000 - val_f1_m: 1.0000 - val_precision_m: 1.0000 - val_recall_m: 1.0000\n",
      "Epoch 14/35\n",
      "100/100 [==============================] - 61s 607ms/step - loss: 0.0230 - accuracy: 1.0000 - f1_m: 1.0000 - precision_m: 1.0000 - recall_m: 1.0000 - val_loss: 0.0144 - val_accuracy: 1.0000 - val_f1_m: 1.0000 - val_precision_m: 1.0000 - val_recall_m: 1.0000\n",
      "Epoch 15/35\n",
      "100/100 [==============================] - 59s 589ms/step - loss: 0.0154 - accuracy: 1.0000 - f1_m: 1.0000 - precision_m: 1.0000 - recall_m: 1.0000 - val_loss: 0.0127 - val_accuracy: 1.0000 - val_f1_m: 1.0000 - val_precision_m: 1.0000 - val_recall_m: 1.0000\n",
      "Epoch 16/35\n",
      "100/100 [==============================] - 69s 692ms/step - loss: 0.0136 - accuracy: 1.0000 - f1_m: 1.0000 - precision_m: 1.0000 - recall_m: 1.0000 - val_loss: 0.0112 - val_accuracy: 1.0000 - val_f1_m: 1.0000 - val_precision_m: 1.0000 - val_recall_m: 1.0000\n",
      "Epoch 17/35\n",
      "100/100 [==============================] - 60s 602ms/step - loss: 0.0133 - accuracy: 1.0000 - f1_m: 1.0000 - precision_m: 1.0000 - recall_m: 1.0000 - val_loss: 0.0101 - val_accuracy: 1.0000 - val_f1_m: 1.0000 - val_precision_m: 1.0000 - val_recall_m: 1.0000\n",
      "Epoch 18/35\n",
      "100/100 [==============================] - 61s 614ms/step - loss: 0.0117 - accuracy: 1.0000 - f1_m: 1.0000 - precision_m: 1.0000 - recall_m: 1.0000 - val_loss: 0.0093 - val_accuracy: 1.0000 - val_f1_m: 1.0000 - val_precision_m: 1.0000 - val_recall_m: 1.0000\n",
      "Epoch 19/35\n",
      "100/100 [==============================] - 58s 585ms/step - loss: 0.0138 - accuracy: 1.0000 - f1_m: 1.0000 - precision_m: 1.0000 - recall_m: 1.0000 - val_loss: 0.0084 - val_accuracy: 1.0000 - val_f1_m: 1.0000 - val_precision_m: 1.0000 - val_recall_m: 1.0000\n",
      "Epoch 20/35\n",
      "100/100 [==============================] - 61s 613ms/step - loss: 0.0138 - accuracy: 1.0000 - f1_m: 1.0000 - precision_m: 1.0000 - recall_m: 1.0000 - val_loss: 0.0075 - val_accuracy: 1.0000 - val_f1_m: 1.0000 - val_precision_m: 1.0000 - val_recall_m: 1.0000\n",
      "Epoch 21/35\n",
      "100/100 [==============================] - 58s 582ms/step - loss: 0.0095 - accuracy: 1.0000 - f1_m: 1.0000 - precision_m: 1.0000 - recall_m: 1.0000 - val_loss: 0.0071 - val_accuracy: 1.0000 - val_f1_m: 1.0000 - val_precision_m: 1.0000 - val_recall_m: 1.0000\n",
      "Epoch 22/35\n",
      "100/100 [==============================] - 61s 616ms/step - loss: 0.0119 - accuracy: 1.0000 - f1_m: 1.0000 - precision_m: 1.0000 - recall_m: 1.0000 - val_loss: 0.0060 - val_accuracy: 1.0000 - val_f1_m: 1.0000 - val_precision_m: 1.0000 - val_recall_m: 1.0000\n",
      "Epoch 23/35\n",
      "100/100 [==============================] - 69s 687ms/step - loss: 0.0071 - accuracy: 1.0000 - f1_m: 1.0000 - precision_m: 1.0000 - recall_m: 1.0000 - val_loss: 0.0055 - val_accuracy: 1.0000 - val_f1_m: 1.0000 - val_precision_m: 1.0000 - val_recall_m: 1.0000\n",
      "Epoch 24/35\n",
      "100/100 [==============================] - 61s 609ms/step - loss: 0.0057 - accuracy: 1.0000 - f1_m: 1.0000 - precision_m: 1.0000 - recall_m: 1.0000 - val_loss: 0.0048 - val_accuracy: 1.0000 - val_f1_m: 1.0000 - val_precision_m: 1.0000 - val_recall_m: 1.0000\n",
      "Epoch 25/35\n",
      "100/100 [==============================] - 60s 601ms/step - loss: 0.0089 - accuracy: 1.0000 - f1_m: 1.0000 - precision_m: 1.0000 - recall_m: 1.0000 - val_loss: 0.0042 - val_accuracy: 1.0000 - val_f1_m: 1.0000 - val_precision_m: 1.0000 - val_recall_m: 1.0000\n",
      "Epoch 26/35\n",
      "100/100 [==============================] - 60s 600ms/step - loss: 0.0057 - accuracy: 1.0000 - f1_m: 1.0000 - precision_m: 1.0000 - recall_m: 1.0000 - val_loss: 0.0041 - val_accuracy: 1.0000 - val_f1_m: 1.0000 - val_precision_m: 1.0000 - val_recall_m: 1.0000\n",
      "Epoch 27/35\n",
      "100/100 [==============================] - 60s 602ms/step - loss: 0.0059 - accuracy: 1.0000 - f1_m: 1.0000 - precision_m: 1.0000 - recall_m: 1.0000 - val_loss: 0.0038 - val_accuracy: 1.0000 - val_f1_m: 1.0000 - val_precision_m: 1.0000 - val_recall_m: 1.0000\n",
      "Epoch 28/35\n",
      "100/100 [==============================] - 70s 698ms/step - loss: 0.0042 - accuracy: 1.0000 - f1_m: 1.0000 - precision_m: 1.0000 - recall_m: 1.0000 - val_loss: 0.0033 - val_accuracy: 1.0000 - val_f1_m: 1.0000 - val_precision_m: 1.0000 - val_recall_m: 1.0000\n",
      "Epoch 29/35\n",
      "100/100 [==============================] - 68s 684ms/step - loss: 0.0071 - accuracy: 1.0000 - f1_m: 1.0000 - precision_m: 1.0000 - recall_m: 1.0000 - val_loss: 0.0030 - val_accuracy: 1.0000 - val_f1_m: 1.0000 - val_precision_m: 1.0000 - val_recall_m: 1.0000\n",
      "Epoch 30/35\n",
      "100/100 [==============================] - 59s 589ms/step - loss: 0.0070 - accuracy: 1.0000 - f1_m: 1.0000 - precision_m: 1.0000 - recall_m: 1.0000 - val_loss: 0.0028 - val_accuracy: 1.0000 - val_f1_m: 1.0000 - val_precision_m: 1.0000 - val_recall_m: 1.0000\n",
      "Epoch 31/35\n"
     ]
    },
    {
     "name": "stdout",
     "output_type": "stream",
     "text": [
      "100/100 [==============================] - 60s 602ms/step - loss: 0.0033 - accuracy: 1.0000 - f1_m: 1.0000 - precision_m: 1.0000 - recall_m: 1.0000 - val_loss: 0.0025 - val_accuracy: 1.0000 - val_f1_m: 1.0000 - val_precision_m: 1.0000 - val_recall_m: 1.0000\n",
      "Epoch 32/35\n",
      "100/100 [==============================] - 58s 585ms/step - loss: 0.0032 - accuracy: 1.0000 - f1_m: 1.0000 - precision_m: 1.0000 - recall_m: 1.0000 - val_loss: 0.0023 - val_accuracy: 1.0000 - val_f1_m: 1.0000 - val_precision_m: 1.0000 - val_recall_m: 1.0000\n",
      "Epoch 33/35\n",
      "100/100 [==============================] - 58s 582ms/step - loss: 0.0032 - accuracy: 1.0000 - f1_m: 1.0000 - precision_m: 1.0000 - recall_m: 1.0000 - val_loss: 0.0020 - val_accuracy: 1.0000 - val_f1_m: 1.0000 - val_precision_m: 1.0000 - val_recall_m: 1.0000\n",
      "Epoch 34/35\n",
      "100/100 [==============================] - 74s 741ms/step - loss: 0.0024 - accuracy: 1.0000 - f1_m: 1.0000 - precision_m: 1.0000 - recall_m: 1.0000 - val_loss: 0.0019 - val_accuracy: 1.0000 - val_f1_m: 1.0000 - val_precision_m: 1.0000 - val_recall_m: 1.0000\n",
      "Epoch 35/35\n",
      "100/100 [==============================] - 66s 664ms/step - loss: 0.0026 - accuracy: 1.0000 - f1_m: 1.0000 - precision_m: 1.0000 - recall_m: 1.0000 - val_loss: 0.0019 - val_accuracy: 1.0000 - val_f1_m: 1.0000 - val_precision_m: 1.0000 - val_recall_m: 1.0000\n"
     ]
    }
   ],
   "source": [
    "#model trained on the training data and taking validation data into account to avoid overfitting for 4 epochs \n",
    "history = model.fit(X_train, Y_train, epochs = 35, batch_size=2,validation_data=(X_test, Y_test),verbose = 1)"
   ]
  },
  {
   "cell_type": "code",
   "execution_count": null,
   "id": "73db1b1f",
   "metadata": {},
   "outputs": [],
   "source": []
  },
  {
   "cell_type": "code",
   "execution_count": 62,
   "id": "b90a48df",
   "metadata": {},
   "outputs": [],
   "source": [
    "dl_acc = history.history['val_accuracy'][34]\n",
    "dl_prec = history.history['val_precision_m'][34]\n",
    "dl_rec = history.history['val_recall_m'][34]\n",
    "dl_f1 = history.history['val_f1_m'][34]\n",
    "\n",
    "storeResults('GRU',dl_acc,dl_prec,dl_rec,dl_f1)"
   ]
  },
  {
   "cell_type": "code",
   "execution_count": 63,
   "id": "2c1bf634",
   "metadata": {},
   "outputs": [
    {
     "data": {
      "image/png": "[encoded data removed]",
      "text/plain": [
       "<Figure size 640x480 with 1 Axes>"
      ]
     },
     "metadata": {},
     "output_type": "display_data"
    },
    {
     "data": {
      "image/png": "[encoded data removed]",
      "text/plain": [
       "<Figure size 640x480 with 1 Axes>"
      ]
     },
     "metadata": {},
     "output_type": "display_data"
    }
   ],
   "source": [
    "plt.plot(history.history['accuracy'])\n",
    "plt.plot(history.history['val_accuracy'])\n",
    "plt.title('Accuracy Curves')\n",
    "plt.ylabel('Accuracy')\n",
    "plt.xlabel('Epoch')\n",
    "plt.legend(['Train', 'Test'], loc='upper left')\n",
    "plt.show()\n",
    "\n",
    "plt.plot(history.history['loss'])\n",
    "plt.plot(history.history['val_loss'])\n",
    "plt.title('Loss Curves')\n",
    "plt.ylabel('Loss')\n",
    "plt.xlabel('Epoch')\n",
    "plt.legend(['Train', 'Test'], loc='upper left')\n",
    "plt.show()"
   ]
  },
  {
   "cell_type": "markdown",
   "id": "f48c0823",
   "metadata": {},
   "source": [
    "# BiLSTM + GRU"
   ]
  },
  {
   "cell_type": "code",
   "execution_count": 64,
   "id": "5e6cde11",
   "metadata": {},
   "outputs": [
    {
     "name": "stdout",
     "output_type": "stream",
     "text": [
      "WARNING:tensorflow:Please add `keras.layers.InputLayer` instead of `keras.Input` to Sequential model. `keras.Input` is intended to be used by Functional model.\n",
      "Model: \"sequential_8\"\n",
      "_________________________________________________________________\n",
      "Layer (type)                 Output Shape              Param #   \n",
      "=================================================================\n",
      "embedding_7 (Embedding)      (None, 100, 128)          1920000   \n",
      "_________________________________________________________________\n",
      "bidirectional_2 (Bidirection (None, 100, 400)          526400    \n",
      "_________________________________________________________________\n",
      "dropout_13 (Dropout)         (None, 100, 400)          0         \n",
      "_________________________________________________________________\n",
      "lstm_5 (LSTM)                (None, 100, 200)          480800    \n",
      "_________________________________________________________________\n",
      "dropout_14 (Dropout)         (None, 100, 200)          0         \n",
      "_________________________________________________________________\n",
      "gru_7 (GRU)                  (None, 200)               241200    \n",
      "_________________________________________________________________\n",
      "dropout_15 (Dropout)         (None, 200)               0         \n",
      "_________________________________________________________________\n",
      "dense_9 (Dense)              (None, 256)               51456     \n",
      "_________________________________________________________________\n",
      "dropout_16 (Dropout)         (None, 256)               0         \n",
      "_________________________________________________________________\n",
      "dense_10 (Dense)             (None, 2)                 514       \n",
      "=================================================================\n",
      "Total params: 3,220,370\n",
      "Trainable params: 3,220,370\n",
      "Non-trainable params: 0\n",
      "_________________________________________________________________\n"
     ]
    }
   ],
   "source": [
    "model_hy=tf.keras.Sequential()\n",
    "\n",
    "model_hy.add(tf.keras.layers.Input(shape=[100]))\n",
    "model_hy.add(tf.keras.layers.Embedding(num_words,embed_dim,input_length=X_train.shape[1]))    \n",
    "\n",
    "model_hy.add(Bidirectional(tf.keras.layers.LSTM(200, return_sequences=True)))\n",
    "model_hy.add(tf.keras.layers.Dropout(0.5))\n",
    "\n",
    "model_hy.add(tf.keras.layers.LSTM(200,return_sequences=True))\n",
    "model_hy.add(tf.keras.layers.Dropout(0.5))\n",
    "\n",
    "model_hy.add(tf.keras.layers.GRU(200))\n",
    "model_hy.add(tf.keras.layers.Dropout(0.5))\n",
    "          \n",
    "model_hy.add(tf.keras.layers.Dense(256))\n",
    "model_hy.add(tf.keras.layers.Dropout(0.5))\n",
    "\n",
    "model_hy.add(tf.keras.layers.Dense(2,activation='sigmoid')) #output layer\n",
    "\n",
    "model_hy.summary()"
   ]
  },
  {
   "cell_type": "code",
   "execution_count": 65,
   "id": "ab8a48a2",
   "metadata": {},
   "outputs": [],
   "source": [
    "model_hy.compile(loss='categorical_crossentropy',optimizer='adam',metrics = ['accuracy',f1_m,precision_m, recall_m])"
   ]
  },
  {
   "cell_type": "code",
   "execution_count": 66,
   "id": "9fd50b96",
   "metadata": {},
   "outputs": [
    {
     "name": "stdout",
     "output_type": "stream",
     "text": [
      "Epoch 1/35\n",
      "WARNING:tensorflow:Model was constructed with shape (None, 100) for input KerasTensor(type_spec=TensorSpec(shape=(None, 100), dtype=tf.float32, name='input_3'), name='input_3', description=\"created by layer 'input_3'\"), but it was called on an input with incompatible shape (2, 429).\n",
      "WARNING:tensorflow:Model was constructed with shape (None, 100) for input KerasTensor(type_spec=TensorSpec(shape=(None, 100), dtype=tf.float32, name='input_3'), name='input_3', description=\"created by layer 'input_3'\"), but it was called on an input with incompatible shape (2, 429).\n",
      "100/100 [==============================] - ETA: 0s - loss: 0.7132 - accuracy: 0.4600 - f1_m: 0.5053 - precision_m: 0.4733 - recall_m: 0.5600WARNING:tensorflow:Model was constructed with shape (None, 100) for input KerasTensor(type_spec=TensorSpec(shape=(None, 100), dtype=tf.float32, name='input_3'), name='input_3', description=\"created by layer 'input_3'\"), but it was called on an input with incompatible shape (2, 429).\n",
      "100/100 [==============================] - 16s 103ms/step - loss: 0.7132 - accuracy: 0.4600 - f1_m: 0.5053 - precision_m: 0.4733 - recall_m: 0.5600 - val_loss: 0.6923 - val_accuracy: 0.5550 - val_f1_m: 0.5530 - val_precision_m: 0.5517 - val_recall_m: 0.5550\n",
      "Epoch 2/35\n",
      "100/100 [==============================] - 10s 96ms/step - loss: 0.6943 - accuracy: 0.5800 - f1_m: 0.6100 - precision_m: 0.5917 - recall_m: 0.6600 - val_loss: 0.4799 - val_accuracy: 0.8150 - val_f1_m: 0.8183 - val_precision_m: 0.8250 - val_recall_m: 0.8150\n",
      "Epoch 3/35\n",
      "100/100 [==============================] - 10s 96ms/step - loss: 0.4517 - accuracy: 0.8300 - f1_m: 0.8173 - precision_m: 0.8267 - recall_m: 0.8200 - val_loss: 0.1593 - val_accuracy: 0.9500 - val_f1_m: 0.9477 - val_precision_m: 0.9483 - val_recall_m: 0.9500\n",
      "Epoch 4/35\n",
      "100/100 [==============================] - 10s 98ms/step - loss: 0.0865 - accuracy: 0.9800 - f1_m: 0.9767 - precision_m: 0.9800 - recall_m: 0.9750 - val_loss: 0.0224 - val_accuracy: 0.9850 - val_f1_m: 0.9850 - val_precision_m: 0.9850 - val_recall_m: 0.9850\n",
      "Epoch 5/35\n",
      "100/100 [==============================] - 10s 97ms/step - loss: 0.0150 - accuracy: 0.9900 - f1_m: 0.9917 - precision_m: 0.9950 - recall_m: 0.9900 - val_loss: 0.0397 - val_accuracy: 0.9900 - val_f1_m: 0.9900 - val_precision_m: 0.9900 - val_recall_m: 0.9900\n",
      "Epoch 6/35\n",
      "100/100 [==============================] - 10s 98ms/step - loss: 0.1892 - accuracy: 0.9550 - f1_m: 0.9450 - precision_m: 0.9550 - recall_m: 0.9400 - val_loss: 0.0065 - val_accuracy: 1.0000 - val_f1_m: 1.0000 - val_precision_m: 1.0000 - val_recall_m: 1.0000\n",
      "Epoch 7/35\n",
      "100/100 [==============================] - 10s 99ms/step - loss: 9.4625e-04 - accuracy: 1.0000 - f1_m: 1.0000 - precision_m: 1.0000 - recall_m: 1.0000 - val_loss: 4.6951e-05 - val_accuracy: 1.0000 - val_f1_m: 1.0000 - val_precision_m: 1.0000 - val_recall_m: 1.0000\n",
      "Epoch 8/35\n",
      "100/100 [==============================] - 10s 97ms/step - loss: 1.0823e-04 - accuracy: 1.0000 - f1_m: 1.0000 - precision_m: 1.0000 - recall_m: 1.0000 - val_loss: 1.8367e-05 - val_accuracy: 1.0000 - val_f1_m: 1.0000 - val_precision_m: 1.0000 - val_recall_m: 1.0000\n",
      "Epoch 9/35\n",
      "100/100 [==============================] - 10s 97ms/step - loss: 7.5013e-05 - accuracy: 1.0000 - f1_m: 1.0000 - precision_m: 1.0000 - recall_m: 1.0000 - val_loss: 1.3230e-05 - val_accuracy: 1.0000 - val_f1_m: 1.0000 - val_precision_m: 1.0000 - val_recall_m: 1.0000\n",
      "Epoch 10/35\n",
      "100/100 [==============================] - 10s 97ms/step - loss: 5.7658e-05 - accuracy: 1.0000 - f1_m: 1.0000 - precision_m: 1.0000 - recall_m: 1.0000 - val_loss: 9.0790e-06 - val_accuracy: 1.0000 - val_f1_m: 1.0000 - val_precision_m: 1.0000 - val_recall_m: 1.0000\n",
      "Epoch 11/35\n",
      "100/100 [==============================] - 10s 96ms/step - loss: 3.3846e-05 - accuracy: 1.0000 - f1_m: 1.0000 - precision_m: 1.0000 - recall_m: 1.0000 - val_loss: 7.4931e-06 - val_accuracy: 1.0000 - val_f1_m: 1.0000 - val_precision_m: 1.0000 - val_recall_m: 1.0000\n",
      "Epoch 12/35\n",
      "100/100 [==============================] - 10s 97ms/step - loss: 3.2057e-05 - accuracy: 1.0000 - f1_m: 1.0000 - precision_m: 1.0000 - recall_m: 1.0000 - val_loss: 5.5538e-06 - val_accuracy: 1.0000 - val_f1_m: 1.0000 - val_precision_m: 1.0000 - val_recall_m: 1.0000\n",
      "Epoch 13/35\n",
      "100/100 [==============================] - 10s 98ms/step - loss: 2.0801e-05 - accuracy: 1.0000 - f1_m: 1.0000 - precision_m: 1.0000 - recall_m: 1.0000 - val_loss: 4.7289e-06 - val_accuracy: 1.0000 - val_f1_m: 1.0000 - val_precision_m: 1.0000 - val_recall_m: 1.0000\n",
      "Epoch 14/35\n",
      "100/100 [==============================] - 10s 99ms/step - loss: 4.4816e-05 - accuracy: 1.0000 - f1_m: 1.0000 - precision_m: 1.0000 - recall_m: 1.0000 - val_loss: 3.1030e-06 - val_accuracy: 1.0000 - val_f1_m: 1.0000 - val_precision_m: 1.0000 - val_recall_m: 1.0000\n",
      "Epoch 15/35\n",
      "100/100 [==============================] - 10s 98ms/step - loss: 1.8868e-05 - accuracy: 1.0000 - f1_m: 1.0000 - precision_m: 1.0000 - recall_m: 1.0000 - val_loss: 2.4014e-06 - val_accuracy: 1.0000 - val_f1_m: 1.0000 - val_precision_m: 1.0000 - val_recall_m: 1.0000\n",
      "Epoch 16/35\n",
      "100/100 [==============================] - 10s 99ms/step - loss: 1.2023e-05 - accuracy: 1.0000 - f1_m: 1.0000 - precision_m: 1.0000 - recall_m: 1.0000 - val_loss: 2.0611e-06 - val_accuracy: 1.0000 - val_f1_m: 1.0000 - val_precision_m: 1.0000 - val_recall_m: 1.0000\n",
      "Epoch 17/35\n",
      "100/100 [==============================] - 10s 99ms/step - loss: 2.0281e-05 - accuracy: 1.0000 - f1_m: 1.0000 - precision_m: 1.0000 - recall_m: 1.0000 - val_loss: 1.5533e-06 - val_accuracy: 1.0000 - val_f1_m: 1.0000 - val_precision_m: 1.0000 - val_recall_m: 1.0000\n",
      "Epoch 18/35\n",
      "100/100 [==============================] - 10s 99ms/step - loss: 5.4173e-06 - accuracy: 1.0000 - f1_m: 1.0000 - precision_m: 1.0000 - recall_m: 1.0000 - val_loss: 1.4150e-06 - val_accuracy: 1.0000 - val_f1_m: 1.0000 - val_precision_m: 1.0000 - val_recall_m: 1.0000\n",
      "Epoch 19/35\n",
      "100/100 [==============================] - 10s 98ms/step - loss: 9.7839e-06 - accuracy: 1.0000 - f1_m: 1.0000 - precision_m: 1.0000 - recall_m: 1.0000 - val_loss: 1.2565e-06 - val_accuracy: 1.0000 - val_f1_m: 1.0000 - val_precision_m: 1.0000 - val_recall_m: 1.0000\n",
      "Epoch 20/35\n",
      "100/100 [==============================] - 10s 98ms/step - loss: 8.5999e-06 - accuracy: 1.0000 - f1_m: 1.0000 - precision_m: 1.0000 - recall_m: 1.0000 - val_loss: 1.0985e-06 - val_accuracy: 1.0000 - val_f1_m: 1.0000 - val_precision_m: 1.0000 - val_recall_m: 1.0000\n",
      "Epoch 21/35\n",
      "100/100 [==============================] - 10s 101ms/step - loss: 1.1749e-05 - accuracy: 1.0000 - f1_m: 1.0000 - precision_m: 1.0000 - recall_m: 1.0000 - val_loss: 8.8155e-07 - val_accuracy: 1.0000 - val_f1_m: 1.0000 - val_precision_m: 1.0000 - val_recall_m: 1.0000\n",
      "Epoch 22/35\n",
      "100/100 [==============================] - 10s 98ms/step - loss: 1.7478e-05 - accuracy: 1.0000 - f1_m: 1.0000 - precision_m: 1.0000 - recall_m: 1.0000 - val_loss: 6.3538e-07 - val_accuracy: 1.0000 - val_f1_m: 1.0000 - val_precision_m: 1.0000 - val_recall_m: 1.0000\n",
      "Epoch 23/35\n",
      "100/100 [==============================] - 10s 97ms/step - loss: 9.7007e-06 - accuracy: 1.0000 - f1_m: 1.0000 - precision_m: 1.0000 - recall_m: 1.0000 - val_loss: 5.0545e-07 - val_accuracy: 1.0000 - val_f1_m: 1.0000 - val_precision_m: 1.0000 - val_recall_m: 1.0000\n",
      "Epoch 24/35\n",
      "100/100 [==============================] - 10s 96ms/step - loss: 6.9117e-06 - accuracy: 1.0000 - f1_m: 1.0000 - precision_m: 1.0000 - recall_m: 1.0000 - val_loss: 4.3154e-07 - val_accuracy: 1.0000 - val_f1_m: 1.0000 - val_precision_m: 1.0000 - val_recall_m: 1.0000\n",
      "Epoch 25/35\n",
      "100/100 [==============================] - 10s 97ms/step - loss: 3.9736e-06 - accuracy: 1.0000 - f1_m: 1.0000 - precision_m: 1.0000 - recall_m: 1.0000 - val_loss: 3.9399e-07 - val_accuracy: 1.0000 - val_f1_m: 1.0000 - val_precision_m: 1.0000 - val_recall_m: 1.0000\n",
      "Epoch 26/35\n",
      "100/100 [==============================] - 10s 98ms/step - loss: 5.4690e-06 - accuracy: 1.0000 - f1_m: 1.0000 - precision_m: 1.0000 - recall_m: 1.0000 - val_loss: 3.4451e-07 - val_accuracy: 1.0000 - val_f1_m: 1.0000 - val_precision_m: 1.0000 - val_recall_m: 1.0000\n",
      "Epoch 27/35\n"
     ]
    },
    {
     "name": "stdout",
     "output_type": "stream",
     "text": [
      "100/100 [==============================] - 10s 98ms/step - loss: 1.8185e-06 - accuracy: 1.0000 - f1_m: 1.0000 - precision_m: 1.0000 - recall_m: 1.0000 - val_loss: 3.2723e-07 - val_accuracy: 1.0000 - val_f1_m: 1.0000 - val_precision_m: 1.0000 - val_recall_m: 1.0000\n",
      "Epoch 28/35\n",
      "100/100 [==============================] - 10s 97ms/step - loss: 3.8804e-06 - accuracy: 1.0000 - f1_m: 1.0000 - precision_m: 1.0000 - recall_m: 1.0000 - val_loss: 2.9683e-07 - val_accuracy: 1.0000 - val_f1_m: 1.0000 - val_precision_m: 1.0000 - val_recall_m: 1.0000\n",
      "Epoch 29/35\n",
      "100/100 [==============================] - 10s 98ms/step - loss: 5.7047e-06 - accuracy: 1.0000 - f1_m: 1.0000 - precision_m: 1.0000 - recall_m: 1.0000 - val_loss: 2.4021e-07 - val_accuracy: 1.0000 - val_f1_m: 1.0000 - val_precision_m: 1.0000 - val_recall_m: 1.0000\n",
      "Epoch 30/35\n",
      "100/100 [==============================] - 10s 97ms/step - loss: 5.4982e-06 - accuracy: 1.0000 - f1_m: 1.0000 - precision_m: 1.0000 - recall_m: 1.0000 - val_loss: 1.9670e-07 - val_accuracy: 1.0000 - val_f1_m: 1.0000 - val_precision_m: 1.0000 - val_recall_m: 1.0000\n",
      "Epoch 31/35\n",
      "100/100 [==============================] - 10s 97ms/step - loss: 1.8698e-06 - accuracy: 1.0000 - f1_m: 1.0000 - precision_m: 1.0000 - recall_m: 1.0000 - val_loss: 1.8358e-07 - val_accuracy: 1.0000 - val_f1_m: 1.0000 - val_precision_m: 1.0000 - val_recall_m: 1.0000\n",
      "Epoch 32/35\n",
      "100/100 [==============================] - 10s 96ms/step - loss: 1.0621e-06 - accuracy: 1.0000 - f1_m: 1.0000 - precision_m: 1.0000 - recall_m: 1.0000 - val_loss: 1.7464e-07 - val_accuracy: 1.0000 - val_f1_m: 1.0000 - val_precision_m: 1.0000 - val_recall_m: 1.0000\n",
      "Epoch 33/35\n",
      "100/100 [==============================] - 10s 98ms/step - loss: 2.0706e-06 - accuracy: 1.0000 - f1_m: 1.0000 - precision_m: 1.0000 - recall_m: 1.0000 - val_loss: 1.6093e-07 - val_accuracy: 1.0000 - val_f1_m: 1.0000 - val_precision_m: 1.0000 - val_recall_m: 1.0000\n",
      "Epoch 34/35\n",
      "100/100 [==============================] - 10s 97ms/step - loss: 2.5677e-06 - accuracy: 1.0000 - f1_m: 1.0000 - precision_m: 1.0000 - recall_m: 1.0000 - val_loss: 1.3947e-07 - val_accuracy: 1.0000 - val_f1_m: 1.0000 - val_precision_m: 1.0000 - val_recall_m: 1.0000\n",
      "Epoch 35/35\n",
      "100/100 [==============================] - 10s 97ms/step - loss: 1.3590e-06 - accuracy: 1.0000 - f1_m: 1.0000 - precision_m: 1.0000 - recall_m: 1.0000 - val_loss: 1.3113e-07 - val_accuracy: 1.0000 - val_f1_m: 1.0000 - val_precision_m: 1.0000 - val_recall_m: 1.0000\n"
     ]
    }
   ],
   "source": [
    "#model trained on the training data and taking validation data into account to avoid overfitting for 4 epochs \n",
    "history1 = model_hy.fit(X_train, Y_train, epochs = 35, batch_size=2,validation_data=(X_test, Y_test),verbose = 1)"
   ]
  },
  {
   "cell_type": "code",
   "execution_count": 68,
   "id": "119fa947",
   "metadata": {},
   "outputs": [],
   "source": [
    "dl_acc = history1.history['val_accuracy'][34]\n",
    "dl_prec = history1.history['val_precision_m'][34]\n",
    "dl_rec = history1.history['val_recall_m'][34]\n",
    "dl_f1 = history1.history['val_f1_m'][34]\n",
    "\n",
    "storeResults('BiLSTM+LSTM+GRU',dl_acc,dl_prec,dl_rec,dl_f1)"
   ]
  },
  {
   "cell_type": "code",
   "execution_count": 67,
   "id": "9eee644a",
   "metadata": {},
   "outputs": [
    {
     "data": {
      "image/png": "[encoded data removed]",
      "text/plain": [
       "<Figure size 640x480 with 1 Axes>"
      ]
     },
     "metadata": {},
     "output_type": "display_data"
    },
    {
     "data": {
      "image/png": "[encoded data removed]",
      "text/plain": [
       "<Figure size 640x480 with 1 Axes>"
      ]
     },
     "metadata": {},
     "output_type": "display_data"
    }
   ],
   "source": [
    "plt.plot(history1.history['accuracy'])\n",
    "plt.plot(history1.history['val_accuracy'])\n",
    "plt.title('Accuracy Curves')\n",
    "plt.ylabel('Accuracy')\n",
    "plt.xlabel('Epoch')\n",
    "plt.legend(['Train', 'Test'], loc='upper left')\n",
    "plt.show()\n",
    "\n",
    "plt.plot(history1.history['loss'])\n",
    "plt.plot(history1.history['val_loss'])\n",
    "plt.title('Loss Curves')\n",
    "plt.ylabel('Loss')\n",
    "plt.xlabel('Epoch')\n",
    "plt.legend(['Train', 'Test'], loc='upper left')\n",
    "plt.show()"
   ]
  },
  {
   "cell_type": "markdown",
   "id": "c2e22f98",
   "metadata": {},
   "source": [
    "# Comparison"
   ]
  },
  {
   "cell_type": "code",
   "execution_count": 69,
   "id": "0ff42ff7",
   "metadata": {},
   "outputs": [],
   "source": [
    "#creating dataframe\n",
    "import pandas as pd\n",
    "result = pd.DataFrame({ 'ML Model' : ML_Model,\n",
    "                        'Accuracy' : acc,\n",
    "                       'Precision': prec,\n",
    "                       'Recall'   : rec,\n",
    "                        'f1_score' : f1,\n",
    "                      })"
   ]
  },
  {
   "cell_type": "code",
   "execution_count": 70,
   "id": "faa3aee1",
   "metadata": {},
   "outputs": [
    {
     "data": {
      "text/html": [
       "<div>\n",
       "<style scoped>\n",
       "    .dataframe tbody tr th:only-of-type {\n",
       "        vertical-align: middle;\n",
       "    }\n",
       "\n",
       "    .dataframe tbody tr th {\n",
       "        vertical-align: top;\n",
       "    }\n",
       "\n",
       "    .dataframe thead th {\n",
       "        text-align: right;\n",
       "    }\n",
       "</style>\n",
       "<table border=\"1\" class=\"dataframe\">\n",
       "  <thead>\n",
       "    <tr style=\"text-align: right;\">\n",
       "      <th></th>\n",
       "      <th>ML Model</th>\n",
       "      <th>Accuracy</th>\n",
       "      <th>Precision</th>\n",
       "      <th>Recall</th>\n",
       "      <th>f1_score</th>\n",
       "    </tr>\n",
       "  </thead>\n",
       "  <tbody>\n",
       "    <tr>\n",
       "      <td>0</td>\n",
       "      <td>Existing BERT-LSTM Model</td>\n",
       "      <td>0.994</td>\n",
       "      <td>0.994</td>\n",
       "      <td>0.994</td>\n",
       "      <td>0.994</td>\n",
       "    </tr>\n",
       "    <tr>\n",
       "      <td>1</td>\n",
       "      <td>Propose BERT-Bi-GRU Model</td>\n",
       "      <td>0.995</td>\n",
       "      <td>0.995</td>\n",
       "      <td>0.995</td>\n",
       "      <td>0.995</td>\n",
       "    </tr>\n",
       "    <tr>\n",
       "      <td>2</td>\n",
       "      <td>Extension BERT-CNN-Bi-GRU Model</td>\n",
       "      <td>0.975</td>\n",
       "      <td>0.975</td>\n",
       "      <td>0.975</td>\n",
       "      <td>0.975</td>\n",
       "    </tr>\n",
       "    <tr>\n",
       "      <td>3</td>\n",
       "      <td>Extension BERT-LSTM-GRU Model</td>\n",
       "      <td>0.994</td>\n",
       "      <td>0.994</td>\n",
       "      <td>0.994</td>\n",
       "      <td>0.994</td>\n",
       "    </tr>\n",
       "    <tr>\n",
       "      <td>4</td>\n",
       "      <td>GRU</td>\n",
       "      <td>1.000</td>\n",
       "      <td>1.000</td>\n",
       "      <td>1.000</td>\n",
       "      <td>1.000</td>\n",
       "    </tr>\n",
       "    <tr>\n",
       "      <td>5</td>\n",
       "      <td>BiLSTM+LSTM+GRU</td>\n",
       "      <td>1.000</td>\n",
       "      <td>1.000</td>\n",
       "      <td>1.000</td>\n",
       "      <td>1.000</td>\n",
       "    </tr>\n",
       "  </tbody>\n",
       "</table>\n",
       "</div>"
      ],
      "text/plain": [
       "                          ML Model  Accuracy  Precision  Recall  f1_score\n",
       "0         Existing BERT-LSTM Model     0.994      0.994   0.994     0.994\n",
       "1        Propose BERT-Bi-GRU Model     0.995      0.995   0.995     0.995\n",
       "2  Extension BERT-CNN-Bi-GRU Model     0.975      0.975   0.975     0.975\n",
       "3    Extension BERT-LSTM-GRU Model     0.994      0.994   0.994     0.994\n",
       "4                              GRU     1.000      1.000   1.000     1.000\n",
       "5                  BiLSTM+LSTM+GRU     1.000      1.000   1.000     1.000"
      ]
     },
     "execution_count": 70,
     "metadata": {},
     "output_type": "execute_result"
    }
   ],
   "source": [
    "result"
   ]
  },
  {
   "cell_type": "code",
   "execution_count": 71,
   "id": "9de48619",
   "metadata": {},
   "outputs": [],
   "source": [
    "model_hy.save('model.h5')"
   ]
  },
  {
   "cell_type": "markdown",
   "id": "808a286c",
   "metadata": {},
   "source": [
    "# Graph"
   ]
  },
  {
   "cell_type": "code",
   "execution_count": 72,
   "id": "d4d0d92a",
   "metadata": {},
   "outputs": [],
   "source": [
    "classifier = ML_Model\n",
    "y_pos = np.arange(len(classifier))"
   ]
  },
  {
   "cell_type": "markdown",
   "id": "d67352a8",
   "metadata": {},
   "source": [
    "# Accuracy"
   ]
  },
  {
   "cell_type": "code",
   "execution_count": 73,
   "id": "d60f28b0",
   "metadata": {},
   "outputs": [
    {
     "data": {
      "image/png": "[encoded data removed]",
      "text/plain": [
       "<Figure size 640x480 with 1 Axes>"
      ]
     },
     "metadata": {},
     "output_type": "display_data"
    }
   ],
   "source": [
    "import matplotlib.pyplot as plt2\n",
    "plt2.barh(y_pos, acc, align='center', alpha=0.5,color='blue')\n",
    "plt2.yticks(y_pos, classifier)\n",
    "plt2.xlabel('Accuracy Score')\n",
    "plt2.title('Classification Performance')\n",
    "plt2.show()"
   ]
  },
  {
   "cell_type": "markdown",
   "id": "02242eb7",
   "metadata": {},
   "source": [
    "# Precision"
   ]
  },
  {
   "cell_type": "code",
   "execution_count": 74,
   "id": "9894cbb0",
   "metadata": {},
   "outputs": [
    {
     "data": {
      "image/png": "[encoded data removed]",
      "text/plain": [
       "<Figure size 640x480 with 1 Axes>"
      ]
     },
     "metadata": {},
     "output_type": "display_data"
    }
   ],
   "source": [
    "plt2.barh(y_pos, prec, align='center', alpha=0.5,color='red')\n",
    "plt2.yticks(y_pos, classifier)\n",
    "plt2.xlabel('Precision Score')\n",
    "plt2.title('Classification Performance')\n",
    "plt2.show()"
   ]
  },
  {
   "cell_type": "markdown",
   "id": "5fa82b58",
   "metadata": {},
   "source": [
    "# Recall"
   ]
  },
  {
   "cell_type": "code",
   "execution_count": 75,
   "id": "6801ddfc",
   "metadata": {},
   "outputs": [
    {
     "data": {
      "image/png": "[encoded data removed]",
      "text/plain": [
       "<Figure size 640x480 with 1 Axes>"
      ]
     },
     "metadata": {},
     "output_type": "display_data"
    }
   ],
   "source": [
    "plt2.barh(y_pos, rec, align='center', alpha=0.5,color='yellow')\n",
    "plt2.yticks(y_pos, classifier)\n",
    "plt2.xlabel('Recall Score')\n",
    "plt2.title('Classification Performance')\n",
    "plt2.show()"
   ]
  },
  {
   "cell_type": "markdown",
   "id": "372dd496",
   "metadata": {},
   "source": [
    "# F1 Score"
   ]
  },
  {
   "cell_type": "code",
   "execution_count": 76,
   "id": "54d1ae9f",
   "metadata": {},
   "outputs": [
    {
     "data": {
      "image/png": "[encoded data removed]",
      "text/plain": [
       "<Figure size 640x480 with 1 Axes>"
      ]
     },
     "metadata": {},
     "output_type": "display_data"
    }
   ],
   "source": [
    "plt2.barh(y_pos, f1, align='center', alpha=0.5,color='pink')\n",
    "plt2.yticks(y_pos, classifier)\n",
    "plt2.xlabel('F1 Score')\n",
    "plt2.title('Classification Performance')\n",
    "plt2.show()"
   ]
  },
  {
   "cell_type": "markdown",
   "id": "b602ecd8",
   "metadata": {},
   "source": [
    "# Prediction"
   ]
  },
  {
   "cell_type": "code",
   "execution_count": 89,
   "id": "ab754917",
   "metadata": {},
   "outputs": [],
   "source": [
    "labels = ['Novelty Seeking', 'Non-Novelty Seeking']"
   ]
  },
  {
   "cell_type": "code",
   "execution_count": 80,
   "id": "4d22af99",
   "metadata": {},
   "outputs": [],
   "source": [
    "model = load_model('model.h5',compile=False)\n",
    "\n",
    "cv=pickle.load(open('transform.pkl','rb'))"
   ]
  },
  {
   "cell_type": "code",
   "execution_count": 91,
   "id": "1e1aedc0",
   "metadata": {},
   "outputs": [],
   "source": [
    "msg = 'Wow what an amazing walk on the Great Wall of China, amazing view from each look out points along the wall, November weather was fantastic while we were there.'"
   ]
  },
  {
   "cell_type": "code",
   "execution_count": 92,
   "id": "523c8bfc",
   "metadata": {},
   "outputs": [],
   "source": [
    "data = [msg]\n",
    "vect = cv.texts_to_sequences(data)\n",
    "vect = pad_sequences(vect)\n",
    "k=np.zeros((1,300))\n",
    "k[0,-vect.shape[1]:]=vect\n",
    "my_prediction = model.predict_classes(np.array(k))"
   ]
  },
  {
   "cell_type": "code",
   "execution_count": 93,
   "id": "eb3b8619",
   "metadata": {},
   "outputs": [
    {
     "data": {
      "text/plain": [
       "array([0], dtype=int64)"
      ]
     },
     "execution_count": 93,
     "metadata": {},
     "output_type": "execute_result"
    }
   ],
   "source": [
    "my_prediction"
   ]
  },
  {
   "cell_type": "code",
   "execution_count": 94,
   "id": "9b9d1139",
   "metadata": {},
   "outputs": [],
   "source": [
    "predict = my_prediction[0]"
   ]
  },
  {
   "cell_type": "code",
   "execution_count": 95,
   "id": "c852f631",
   "metadata": {},
   "outputs": [
    {
     "data": {
      "text/plain": [
       "0"
      ]
     },
     "execution_count": 95,
     "metadata": {},
     "output_type": "execute_result"
    }
   ],
   "source": [
    "predict"
   ]
  },
  {
   "cell_type": "code",
   "execution_count": 96,
   "id": "0bd5812d",
   "metadata": {},
   "outputs": [
    {
     "data": {
      "text/plain": [
       "'Novelty Seeking'"
      ]
     },
     "execution_count": 96,
     "metadata": {},
     "output_type": "execute_result"
    }
   ],
   "source": [
    "labels[predict]"
   ]
  },
  {
   "cell_type": "code",
   "execution_count": null,
   "id": "db078596",
   "metadata": {},
   "outputs": [],
   "source": []
  },
  {
   "cell_type": "code",
   "execution_count": null,
   "id": "dd963203",
   "metadata": {},
   "outputs": [],
   "source": []
  }
 ],
 "metadata": {
  "kernelspec": {
   "display_name": "Python 3 (ipykernel)",
   "language": "python",
   "name": "python3"
  },
  "language_info": {
   "codemirror_mode": {
    "name": "ipython",
    "version": 3
   },
   "file_extension": ".py",
   "mimetype": "text/x-python",
   "name": "python",
   "nbconvert_exporter": "python",
   "pygments_lexer": "ipython3",
   "version": "3.7.4"
  }
 },
 "nbformat": 4,
 "nbformat_minor": 5
}
