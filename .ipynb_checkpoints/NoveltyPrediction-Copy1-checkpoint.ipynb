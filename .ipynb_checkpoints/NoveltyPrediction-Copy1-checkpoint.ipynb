{
 "cells": [
  {
   "cell_type": "code",
   "execution_count": 47,
   "metadata": {},
   "outputs": [],
   "source": [
    "#import python classes and packages\n",
    "from string import punctuation\n",
    "#importing NLP packages for text review processing\n",
    "from nltk.corpus import stopwords\n",
    "import nltk\n",
    "from nltk.stem import WordNetLemmatizer\n",
    "import numpy as np\n",
    "import pandas as pd\n",
    "import pickle\n",
    "from nltk.stem import PorterStemmer\n",
    "from keras.utils.np_utils import to_categorical\n",
    "import os\n",
    "from sklearn.metrics import accuracy_score\n",
    "from keras.layers import  MaxPooling2D\n",
    "from keras.layers import Dense, Dropout, Activation, Flatten\n",
    "from keras.layers import Convolution2D\n",
    "from keras.models import Sequential, Model, load_model\n",
    "from keras.models import model_from_json\n",
    "from sklearn.preprocessing import MinMaxScaler\n",
    "from keras.callbacks import ModelCheckpoint \n",
    "from keras.layers import Bidirectional, GRU, LSTM, Conv1D, MaxPooling1D, RepeatVector#loading GRU, bidriectional, lstm and CNN\n",
    "from sentence_transformers import SentenceTransformer #loading bert sentence model\n",
    "from sklearn.model_selection import train_test_split\n",
    "import seaborn as sns\n",
    "from sklearn.metrics import precision_score\n",
    "from sklearn.metrics import recall_score\n",
    "from sklearn.metrics import f1_score\n",
    "from sklearn.metrics import confusion_matrix\n",
    "import matplotlib.pyplot as plt"
   ]
  },
  {
   "cell_type": "code",
   "execution_count": 49,
   "metadata": {},
   "outputs": [
    {
     "name": "stdout",
     "output_type": "stream",
     "text": [
      "Bert model initialized\n"
     ]
    }
   ],
   "source": [
    "#create bert model object\n",
    "bert = SentenceTransformer('nli-distilroberta-base-v2')\n",
    "print(\"Bert model initialized\")"
   ]
  },
  {
   "cell_type": "code",
   "execution_count": 2,
   "metadata": {},
   "outputs": [],
   "source": [
    "#defining classes to remove stop words, applying steeming and lemmatization\n",
    "stop_words = set(stopwords.words('english'))\n",
    "lemmatizer = WordNetLemmatizer()\n",
    "ps = PorterStemmer()"
   ]
  },
  {
   "cell_type": "code",
   "execution_count": 3,
   "metadata": {},
   "outputs": [],
   "source": [
    "#define function to clean text reviews from dataset\n",
    "def cleanText(doc):\n",
    "    tokens = doc.split()\n",
    "    table = str.maketrans('', '', punctuation)\n",
    "    tokens = [w.translate(table) for w in tokens]\n",
    "    tokens = [word for word in tokens if word.isalpha()]\n",
    "    tokens = [w for w in tokens if not w in stop_words]\n",
    "    tokens = [word for word in tokens if len(word) > 1]\n",
    "    tokens = [ps.stem(token) for token in tokens]\n",
    "    tokens = [lemmatizer.lemmatize(token) for token in tokens]\n",
    "    tokens = ' '.join(tokens)\n",
    "    return tokens"
   ]
  },
  {
   "cell_type": "code",
   "execution_count": 4,
   "metadata": {},
   "outputs": [
    {
     "data": {
      "text/html": [
       "<div>\n",
       "<style scoped>\n",
       "    .dataframe tbody tr th:only-of-type {\n",
       "        vertical-align: middle;\n",
       "    }\n",
       "\n",
       "    .dataframe tbody tr th {\n",
       "        vertical-align: top;\n",
       "    }\n",
       "\n",
       "    .dataframe thead th {\n",
       "        text-align: right;\n",
       "    }\n",
       "</style>\n",
       "<table border=\"1\" class=\"dataframe\">\n",
       "  <thead>\n",
       "    <tr style=\"text-align: right;\">\n",
       "      <th></th>\n",
       "      <th>content</th>\n",
       "      <th>label</th>\n",
       "      <th>type</th>\n",
       "    </tr>\n",
       "  </thead>\n",
       "  <tbody>\n",
       "    <tr>\n",
       "      <th>0</th>\n",
       "      <td>Wow what an amazing walk on the Great Wall of ...</td>\n",
       "      <td>0</td>\n",
       "      <td>train</td>\n",
       "    </tr>\n",
       "    <tr>\n",
       "      <th>1</th>\n",
       "      <td>I came to spend 2 hours between 2 professional...</td>\n",
       "      <td>0</td>\n",
       "      <td>train</td>\n",
       "    </tr>\n",
       "    <tr>\n",
       "      <th>2</th>\n",
       "      <td>A MUST visit in one's life. History and Art fr...</td>\n",
       "      <td>1</td>\n",
       "      <td>train</td>\n",
       "    </tr>\n",
       "    <tr>\n",
       "      <th>3</th>\n",
       "      <td>It's was very peaceful and beautiful, go with ...</td>\n",
       "      <td>0</td>\n",
       "      <td>train</td>\n",
       "    </tr>\n",
       "    <tr>\n",
       "      <th>4</th>\n",
       "      <td>It is beautiful lake in all seasons. Beautiful...</td>\n",
       "      <td>0</td>\n",
       "      <td>train</td>\n",
       "    </tr>\n",
       "    <tr>\n",
       "      <th>...</th>\n",
       "      <td>...</td>\n",
       "      <td>...</td>\n",
       "      <td>...</td>\n",
       "    </tr>\n",
       "    <tr>\n",
       "      <th>3995</th>\n",
       "      <td>I visited it right when the official change to...</td>\n",
       "      <td>0</td>\n",
       "      <td>valid</td>\n",
       "    </tr>\n",
       "    <tr>\n",
       "      <th>3996</th>\n",
       "      <td>Suomenlinna is stunning historic place. We wen...</td>\n",
       "      <td>1</td>\n",
       "      <td>valid</td>\n",
       "    </tr>\n",
       "    <tr>\n",
       "      <th>3997</th>\n",
       "      <td>Milcha/Mike was funny, really knowledgeable an...</td>\n",
       "      <td>1</td>\n",
       "      <td>valid</td>\n",
       "    </tr>\n",
       "    <tr>\n",
       "      <th>3998</th>\n",
       "      <td>From the Helsinki market place there is a ferr...</td>\n",
       "      <td>1</td>\n",
       "      <td>valid</td>\n",
       "    </tr>\n",
       "    <tr>\n",
       "      <th>3999</th>\n",
       "      <td>Even though there were people there at sunrise...</td>\n",
       "      <td>1</td>\n",
       "      <td>valid</td>\n",
       "    </tr>\n",
       "  </tbody>\n",
       "</table>\n",
       "<p>4000 rows × 3 columns</p>\n",
       "</div>"
      ],
      "text/plain": [
       "                                                content  label   type\n",
       "0     Wow what an amazing walk on the Great Wall of ...      0  train\n",
       "1     I came to spend 2 hours between 2 professional...      0  train\n",
       "2     A MUST visit in one's life. History and Art fr...      1  train\n",
       "3     It's was very peaceful and beautiful, go with ...      0  train\n",
       "4     It is beautiful lake in all seasons. Beautiful...      0  train\n",
       "...                                                 ...    ...    ...\n",
       "3995  I visited it right when the official change to...      0  valid\n",
       "3996  Suomenlinna is stunning historic place. We wen...      1  valid\n",
       "3997  Milcha/Mike was funny, really knowledgeable an...      1  valid\n",
       "3998  From the Helsinki market place there is a ferr...      1  valid\n",
       "3999  Even though there were people there at sunrise...      1  valid\n",
       "\n",
       "[4000 rows x 3 columns]"
      ]
     },
     "execution_count": 4,
     "metadata": {},
     "output_type": "execute_result"
    }
   ],
   "source": [
    "#load and display Novelty Seeking reviews dataset\n",
    "dataset = pd.read_csv(\"Dataset/processed.csv\")\n",
    "dataset"
   ]
  },
  {
   "cell_type": "code",
   "execution_count": 5,
   "metadata": {},
   "outputs": [
    {
     "data": {
      "image/png": "[encoded data removed]",
      "text/plain": [
       "<Figure size 432x288 with 1 Axes>"
      ]
     },
     "metadata": {
      "needs_background": "light"
     },
     "output_type": "display_data"
    }
   ],
   "source": [
    "#find and plot graph of Novelty Seeking from dataset where 0 label refers as review contains Novelty Seeking and 1 as\n",
    "#non-novelty seeking\n",
    "#plot labels in dataset\n",
    "labels, count = np.unique(dataset['label'], return_counts = True)\n",
    "labels = ['Novelty Seeking', 'Non-Novelty Seeking']\n",
    "height = count\n",
    "bars = labels\n",
    "y_pos = np.arange(len(bars))\n",
    "plt.bar(y_pos, height)\n",
    "plt.xticks(y_pos, bars)\n",
    "plt.xlabel(\"Dataset Class Label Graph\")\n",
    "plt.ylabel(\"Count\")\n",
    "plt.show()"
   ]
  },
  {
   "cell_type": "code",
   "execution_count": 6,
   "metadata": {},
   "outputs": [
    {
     "name": "stdout",
     "output_type": "stream",
     "text": [
      "Bert Converted Embedding vector from dataset reviews\n",
      "[[-0.04793587  0.5640375  -0.6450349  ... -0.65913534  0.9045596\n",
      "   0.5499603 ]\n",
      " [ 0.70733136 -0.08709043  0.07673962 ... -0.32128632  0.6108363\n",
      "   0.01826572]\n",
      " [-0.48672682  0.44718155 -0.50237244 ...  0.08478663  0.78687054\n",
      "   0.23511195]\n",
      " ...\n",
      " [ 0.26772055  0.76312727 -0.02005892 ...  0.51458335  0.05910476\n",
      "   0.42454597]\n",
      " [ 0.33064586  0.3962934   0.22244608 ... -0.4317711   0.66906726\n",
      "   0.24422391]\n",
      " [ 0.8522946   0.74757236  0.3078637  ... -0.13496889  0.6102617\n",
      "   0.81993985]]\n"
     ]
    }
   ],
   "source": [
    "#now clean dataset reviews and then convert to BERT vector\n",
    "if os.path.exists(\"model/bert.npy\"):\n",
    "    X = np.load(\"model/bert.npy\")\n",
    "    Y = np.load(\"model/label.npy\")\n",
    "else:\n",
    "    textdata = []\n",
    "    labels = []\n",
    "    for i in range(len(dataset)):#loop all reviews from dataset\n",
    "        msg = dataset.get_value(i, 'content')#read review content\n",
    "        label = dataset.get_value(i, 'label')#read label\n",
    "        msg = msg.strip().lower()      #convert text to lower case  \n",
    "        msg = cleanPost(msg)#clean the review message\n",
    "        textdata.append(msg)#add message to textdata array    \n",
    "        labels.append(label)#adding label to array\n",
    "    embeddings = bert.encode(textdata, convert_to_tensor=True)#convert all text data into BERT vector\n",
    "    X = embeddings.numpy()#convert bert vector into numpy for training\n",
    "    np.save(\"model/bert\", X)#save bert data and labels to model folder\n",
    "    Y = np.asarray(labels)\n",
    "    np.save(\"model/label\", Y)\n",
    "print(\"Bert Converted Embedding vector from dataset reviews\")\n",
    "print(X)"
   ]
  },
  {
   "cell_type": "code",
   "execution_count": 7,
   "metadata": {},
   "outputs": [
    {
     "name": "stdout",
     "output_type": "stream",
     "text": [
      "\n",
      "Dataset train & test split as 80% dataset for training and 20% for testing\n",
      "Training Size (80%): 3200\n",
      "Testing Size (20%): 800\n",
      "\n"
     ]
    }
   ],
   "source": [
    "#perform dataset preprocessing such as shuffling and splitting dataset into train and test where application used 80% dataset\n",
    "#for training and 20% for testing\n",
    "indices = np.arange(X.shape[0])\n",
    "np.random.shuffle(indices)\n",
    "X = X[indices]\n",
    "Y = Y[indices]\n",
    "Y = to_categorical(Y)\n",
    "X = np.reshape(X, (X.shape[0], 32, 24))\n",
    "X_train, X_test, y_train, y_test = train_test_split(X, Y, test_size=0.2)\n",
    "print()\n",
    "print(\"Dataset train & test split as 80% dataset for training and 20% for testing\")\n",
    "print(\"Training Size (80%): \"+str(X_train.shape[0])) #print training and test size\n",
    "print(\"Testing Size (20%): \"+str(X_test.shape[0]))\n",
    "print()"
   ]
  },
  {
   "cell_type": "code",
   "execution_count": 13,
   "metadata": {},
   "outputs": [],
   "source": [
    "#define global variables to calculate and store accuracy and other metrics\n",
    "precision = []\n",
    "recall = []\n",
    "fscore = []\n",
    "accuracy = []"
   ]
  },
  {
   "cell_type": "code",
   "execution_count": 14,
   "metadata": {},
   "outputs": [],
   "source": [
    "#function to calculate various metrics such as accuracy, precision etc\n",
    "def calculateMetrics(algorithm, predict, testY):\n",
    "    p = precision_score(testY, predict,average='macro') * 100\n",
    "    r = recall_score(testY, predict,average='macro') * 100\n",
    "    f = f1_score(testY, predict,average='macro') * 100\n",
    "    a = accuracy_score(testY,predict)*100     \n",
    "    print()\n",
    "    print(algorithm+' Accuracy  : '+str(a))\n",
    "    print(algorithm+' Precision   : '+str(p))\n",
    "    print(algorithm+' Recall      : '+str(r))\n",
    "    print(algorithm+' FMeasure    : '+str(f))    \n",
    "    accuracy.append(a)\n",
    "    precision.append(p)\n",
    "    recall.append(r)\n",
    "    fscore.append(f)\n",
    "    conf_matrix = confusion_matrix(testY, predict) \n",
    "    plt.figure(figsize =(5, 5)) \n",
    "    ax = sns.heatmap(conf_matrix, xticklabels = labels, yticklabels = labels, annot = True, cmap=\"viridis\" ,fmt =\"g\");\n",
    "    ax.set_ylim([0,len(labels)])\n",
    "    plt.title(algorithm+\" Confusion matrix\") \n",
    "    plt.ylabel('True class') \n",
    "    plt.xlabel('Predicted class') \n",
    "    plt.show()"
   ]
  },
  {
   "cell_type": "code",
   "execution_count": 15,
   "metadata": {},
   "outputs": [
    {
     "name": "stdout",
     "output_type": "stream",
     "text": [
      "\n",
      "Existing BERT-LSTM Model Accuracy  : 79.125\n",
      "Existing BERT-LSTM Model Precision   : 78.5370300954898\n",
      "Existing BERT-LSTM Model Recall      : 78.85880599316388\n",
      "Existing BERT-LSTM Model FMeasure    : 78.66874444165917\n"
     ]
    },
    {
     "data": {
      "image/png": "[encoded data removed]",
      "text/plain": [
       "<Figure size 360x360 with 2 Axes>"
      ]
     },
     "metadata": {
      "needs_background": "light"
     },
     "output_type": "display_data"
    }
   ],
   "source": [
    "#now train existing BERT-LSTM algorithm\n",
    "lstm = Sequential() #defining deep learning sequential object\n",
    "#adding GRU layer with 32 filters to filter given input X train data to select relevant features\n",
    "lstm.add(LSTM(32, input_shape=(X_train.shape[1], X_train.shape[2]), return_sequences=True))\n",
    "#adding dropout layer to remove irrelevant features\n",
    "lstm.add(Dropout(0.3))\n",
    "#adding another layer\n",
    "lstm.add(LSTM(32))\n",
    "lstm.add(Dropout(0.3))\n",
    "#defining output layer for prediction\n",
    "lstm.add(Dense(y_train.shape[1], activation='softmax'))\n",
    "#compile GRU model\n",
    "lstm.compile(loss='categorical_crossentropy', optimizer='adam', metrics=['accuracy'])\n",
    "#start training model on train data and perform validation on test data\n",
    "if os.path.exists(\"model/lstm_weights.hdf5\") == False:\n",
    "    model_check_point = ModelCheckpoint(filepath='model/lstm_weights.hdf5', verbose = 1, save_best_only = True)\n",
    "    hist = lstm.fit(X_train, y_train, batch_size = 16, epochs = 35, validation_data=(X_test, y_test), callbacks=[model_check_point], verbose=1)\n",
    "    f = open('model/lstm_history.pckl', 'wb')\n",
    "    pickle.dump(hist.history, f)\n",
    "    f.close() \n",
    "else:\n",
    "    lstm = load_model(\"model/lstm_weights.hdf5\")\n",
    "predict = lstm.predict(X_test)#perfrom prediction on test data\n",
    "predict = np.argmax(predict, axis=1)\n",
    "target = np.argmax(y_test, axis=1)\n",
    "#calculate accuracy and other metrics\n",
    "calculateMetrics(\"Existing BERT-LSTM Model\", predict, target)"
   ]
  },
  {
   "cell_type": "code",
   "execution_count": 16,
   "metadata": {},
   "outputs": [
    {
     "name": "stdout",
     "output_type": "stream",
     "text": [
      "\n",
      "Propose BERT-Bi-GRU Model Accuracy  : 92.75\n",
      "Propose BERT-Bi-GRU Model Precision   : 92.90982320326394\n",
      "Propose BERT-Bi-GRU Model Recall      : 92.16545449872785\n",
      "Propose BERT-Bi-GRU Model FMeasure    : 92.48582995951415\n"
     ]
    },
    {
     "data": {
      "image/png": "[encoded data removed]",
      "text/plain": [
       "<Figure size 360x360 with 2 Axes>"
      ]
     },
     "metadata": {
      "needs_background": "light"
     },
     "output_type": "display_data"
    }
   ],
   "source": [
    "#now train propose BERT-BiGRU algorithm\n",
    "gru_bilstm = Sequential() #defining deep learning sequential object\n",
    "#adding GRU layer with 32 filters to filter given input X train data to select relevant features\n",
    "gru_bilstm.add(Bidirectional(GRU(32, input_shape=(X_train.shape[1], X_train.shape[2]), return_sequences=True)))\n",
    "#adding dropout layer to remove irrelevant features\n",
    "gru_bilstm.add(Dropout(0.3))\n",
    "#adding another layer\n",
    "gru_bilstm.add(Bidirectional(GRU(32)))#adding bidirectional-GRU layer and peform training on X_train Bert data\n",
    "gru_bilstm.add(Dropout(0.3))\n",
    "#defining output layer for prediction\n",
    "gru_bilstm.add(Dense(y_train.shape[1], activation='softmax'))\n",
    "#compile GRU model\n",
    "gru_bilstm.compile(loss='categorical_crossentropy', optimizer='adam', metrics=['accuracy'])\n",
    "#start training model on train data and perform validation on test data\n",
    "if os.path.exists(\"model/bigru_weights.hdf5\") == False:\n",
    "    model_check_point = ModelCheckpoint(filepath='model/bigru_weights.hdf5', verbose = 1, save_best_only = True)\n",
    "    hist = gru_bilstm.fit(X_train, y_train, batch_size = 16, epochs = 35, validation_data=(X_test, y_test), callbacks=[model_check_point], verbose=1)\n",
    "    f = open('model/bigru_history.pckl', 'wb')\n",
    "    pickle.dump(hist.history, f)\n",
    "    f.close() \n",
    "else:\n",
    "    gru_bilstm = load_model(\"model/bigru_weights.hdf5\")\n",
    "predict = gru_bilstm.predict(X_test)#perfrom prediction on test data\n",
    "predict = np.argmax(predict, axis=1)\n",
    "target = np.argmax(y_test, axis=1)\n",
    "#calculate accuracy and other metrics\n",
    "calculateMetrics(\"Propose BERT-Bi-GRU Model\", predict, target)"
   ]
  },
  {
   "cell_type": "code",
   "execution_count": 17,
   "metadata": {},
   "outputs": [
    {
     "name": "stdout",
     "output_type": "stream",
     "text": [
      "\n",
      "Extension BERT-CNN-Bi-GRU Model Accuracy  : 95.0\n",
      "Extension BERT-CNN-Bi-GRU Model Precision   : 95.10642168455522\n",
      "Extension BERT-CNN-Bi-GRU Model Recall      : 94.60563850839094\n",
      "Extension BERT-CNN-Bi-GRU Model FMeasure    : 94.83257544439851\n"
     ]
    },
    {
     "data": {
      "image/png": "[encoded data removed]",
      "text/plain": [
       "<Figure size 360x360 with 2 Axes>"
      ]
     },
     "metadata": {
      "needs_background": "light"
     },
     "output_type": "display_data"
    }
   ],
   "source": [
    "#now define extension model by combining two different models called BERT + CNN + BiGRU models as this CNN + bi-lstm will \n",
    "#optimized features from both forward and backward direction so it will have more optimzied features and accuracy will be better\n",
    "extension_model = Sequential()\n",
    "#defining CNN layer\n",
    "extension_model.add(Conv1D(filters=32, kernel_size = 15, activation = 'relu', input_shape = (X_train.shape[1], X_train.shape[2])))\n",
    "extension_model.add(Conv1D(filters=16, kernel_size = 12, activation = 'relu'))\n",
    "#adding maxpool layer\n",
    "extension_model.add(MaxPooling1D(pool_size = 2))\n",
    "extension_model.add(Dropout(0.3))\n",
    "extension_model.add(Flatten())\n",
    "extension_model.add(RepeatVector(2))\n",
    "#adding bidirectional + GRU to CNN layer\n",
    "extension_model.add(Bidirectional(GRU(24, activation = 'relu')))\n",
    "extension_model.add(Dropout(0.3))\n",
    "#defining output layer\n",
    "extension_model.add(Dense(units = 33, activation = 'softmax'))\n",
    "extension_model.add(Dense(units = y_train.shape[1], activation = 'softmax'))\n",
    "#compile and train the model\n",
    "extension_model.compile(optimizer = 'adam', loss = 'categorical_crossentropy', metrics = ['accuracy'])\n",
    "if os.path.exists(\"model/extension_weights.hdf5\") == False:\n",
    "    model_check_point = ModelCheckpoint(filepath='model/extension_weights.hdf5', verbose = 1, save_best_only = True)\n",
    "    hist = extension_model.fit(X_train, y_train, batch_size = 16, epochs = 35, validation_data=(X_test, y_test), callbacks=[model_check_point], verbose=1)\n",
    "    f = open('model/extension_history.pckl', 'wb')\n",
    "    pickle.dump(hist.history, f)\n",
    "    f.close()    \n",
    "else:\n",
    "    extension_model = load_model(\"model/extension_weights.hdf5\")\n",
    "#perform prediction on test data using bidirectional LSTM on test data   \n",
    "predict = extension_model.predict(X_test)\n",
    "predict = np.argmax(predict, axis=1)\n",
    "target = np.argmax(y_test, axis=1)\n",
    "#calculate accuracy and other metrics\n",
    "calculateMetrics(\"Extension BERT-CNN-Bi-GRU Model\", predict, target)"
   ]
  },
  {
   "cell_type": "code",
   "execution_count": 18,
   "metadata": {},
   "outputs": [
    {
     "data": {
      "image/png": "[encoded data removed]",
      "text/plain": [
       "<Figure size 432x288 with 1 Axes>"
      ]
     },
     "metadata": {
      "needs_background": "light"
     },
     "output_type": "display_data"
    }
   ],
   "source": [
    "#all algorithms performance graph\n",
    "df = pd.DataFrame([['Existing BERT-LSTM','Precision',precision[0]],['Existing BERT-LSTM','Recall',recall[0]],['Existing BERT-LSTM','F1 Score',fscore[0]],['Existing BERT-LSTM','Accuracy',accuracy[0]],\n",
    "                   ['Propose BERT-Bi-GRU','Precision',precision[1]],['Propose BERT-Bi-GRU','Recall',recall[1]],['Propose BERT-Bi-GRU','F1 Score',fscore[1]],['Propose BERT-Bi-GRU','Accuracy',accuracy[1]],\n",
    "                   ['Extension BERT-CNN-Bi-GRU','Precision',precision[2]],['Extension BERT-CNN-Bi-GRU','Recall',recall[2]],['Extension BERT-CNN-Bi-GRU','F1 Score',fscore[2]],['Extension BERT-CNN-Bi-GRU','Accuracy',accuracy[2]],\n",
    "                  ],columns=['Parameters','Algorithms','Value'])\n",
    "df.pivot(\"Parameters\", \"Algorithms\", \"Value\").plot(kind='bar')\n",
    "plt.title(\"All Algorithms Performance Graph\")\n",
    "plt.show()"
   ]
  },
  {
   "cell_type": "code",
   "execution_count": 19,
   "metadata": {},
   "outputs": [
    {
     "data": {
      "text/html": [
       "<div>\n",
       "<style scoped>\n",
       "    .dataframe tbody tr th:only-of-type {\n",
       "        vertical-align: middle;\n",
       "    }\n",
       "\n",
       "    .dataframe tbody tr th {\n",
       "        vertical-align: top;\n",
       "    }\n",
       "\n",
       "    .dataframe thead th {\n",
       "        text-align: right;\n",
       "    }\n",
       "</style>\n",
       "<table border=\"1\" class=\"dataframe\">\n",
       "  <thead>\n",
       "    <tr style=\"text-align: right;\">\n",
       "      <th></th>\n",
       "      <th>Algorithm Name</th>\n",
       "      <th>Precison</th>\n",
       "      <th>Recall</th>\n",
       "      <th>FScore</th>\n",
       "      <th>Accuracy</th>\n",
       "    </tr>\n",
       "  </thead>\n",
       "  <tbody>\n",
       "    <tr>\n",
       "      <th>0</th>\n",
       "      <td>Existing BERT-LSTM</td>\n",
       "      <td>78.537030</td>\n",
       "      <td>78.858806</td>\n",
       "      <td>78.668744</td>\n",
       "      <td>79.125</td>\n",
       "    </tr>\n",
       "    <tr>\n",
       "      <th>1</th>\n",
       "      <td>Propose BERT-Bi-GRU</td>\n",
       "      <td>92.909823</td>\n",
       "      <td>92.165454</td>\n",
       "      <td>92.485830</td>\n",
       "      <td>92.750</td>\n",
       "    </tr>\n",
       "    <tr>\n",
       "      <th>2</th>\n",
       "      <td>Extension BERT-CNN-Bi-GRU</td>\n",
       "      <td>95.106422</td>\n",
       "      <td>94.605639</td>\n",
       "      <td>94.832575</td>\n",
       "      <td>95.000</td>\n",
       "    </tr>\n",
       "  </tbody>\n",
       "</table>\n",
       "</div>"
      ],
      "text/plain": [
       "              Algorithm Name   Precison     Recall     FScore  Accuracy\n",
       "0         Existing BERT-LSTM  78.537030  78.858806  78.668744    79.125\n",
       "1        Propose BERT-Bi-GRU  92.909823  92.165454  92.485830    92.750\n",
       "2  Extension BERT-CNN-Bi-GRU  95.106422  94.605639  94.832575    95.000"
      ]
     },
     "execution_count": 19,
     "metadata": {},
     "output_type": "execute_result"
    }
   ],
   "source": [
    "#showing all algorithms with scenario A and B performance values\n",
    "columns = [\"Algorithm Name\",\"Precison\",\"Recall\",\"FScore\",\"Accuracy\"]\n",
    "values = []\n",
    "algorithm_names = [\"Existing BERT-LSTM\", \"Propose BERT-Bi-GRU\", \"Extension BERT-CNN-Bi-GRU\"]\n",
    "for i in range(len(algorithm_names)):\n",
    "    values.append([algorithm_names[i],precision[i],recall[i],fscore[i],accuracy[i]])\n",
    "    \n",
    "temp = pd.DataFrame(values,columns=columns)\n",
    "temp"
   ]
  },
  {
   "cell_type": "code",
   "execution_count": 50,
   "metadata": {},
   "outputs": [
    {
     "name": "stderr",
     "output_type": "stream",
     "text": [
      "c:\\users\\user\\appdata\\local\\programs\\python\\python37\\lib\\site-packages\\ipykernel_launcher.py:3: FutureWarning: get_value is deprecated and will be removed in a future release. Please use .at[] or .iat[] accessors instead\n",
      "  This is separate from the ipykernel package so we can avoid doing imports until\n"
     ]
    },
    {
     "name": "stdout",
     "output_type": "stream",
     "text": [
      "Text Review : Wow what an amazing walk on the Great Wall of China, amazing view from each look out points along the wall, November weather was fantastic while we were there. ===> Predicted As Novelty Seeking\n",
      "\n",
      "Text Review : I came to spend 2 hours between 2 professional meetings, I really enjoyed this large beach, the water is turquoise, there were a lot of very beautiful girls ===> Predicted As Novelty Seeking\n",
      "\n",
      "Text Review : A MUST visit in one's life. History and Art from the Byzantium Empire still kept in good shape. The chandeliers are glowing like they used to centuries ago. The mosaic speaks to you in many ways. Mesmerizing experience! ===> Predicted As Novelty Seeking\n",
      "\n",
      "Text Review : It's was very peaceful and beautiful, go with a guide to explain the history and everything about it, really nicee pictures ===> Predicted As Novelty Seeking\n",
      "\n",
      "Text Review : It is beautiful lake in all seasons. Beautiful in summer to swim in and stunning in winter to enjoy its tranquility. ===> Predicted As Novelty Seeking\n",
      "\n",
      "Text Review : The iconic square is located by St. Mark's Basillica. Restaurants and shops outline the square, the price is more.  There are museums and attractions in and around the square. The only way to get to San Marco is by water transport  or walk. ===> Predicted As Novelty Seeking\n",
      "\n",
      "Text Review : Our hotel was near the shops and river hotel ibis strasbourg centre petite france we walked round very busy but pretty and looking at all the restaurants to have something to eat plenty of places and lots of choice .We went to steakhouse district and had steak meal and also ===> Predicted As Non-Novelty Seeking\n",
      "\n",
      "Text Review : Really nice beaches, nice wooden walk along the colorful Lifeguard houses. The water is very nice, mind the flags for bathing information! ===> Predicted As Novelty Seeking\n",
      "\n",
      "Text Review : First time inside Hagia Sophia after it became a mosque. Easy access, no entrance fee, very peaceful. Floor covered in carpet inside prayer hall. ===> Predicted As Novelty Seeking\n",
      "\n",
      "Text Review : Great piece of engineering and very well maintained. Lots of choices in the surroundings shops and restaurant. ===> Predicted As Non-Novelty Seeking\n",
      "\n",
      "Text Review : Very nice place to relax. Good range of attractions and amazing views. Also a good hub in central switzerland if you plan to venture further into the country. But can be overly crowded. If you are looking for a very relaxing, quiet and serene place, I would recommend Weggis which is about 45 mins ferry ride from Luzern. Costs in Weggis are also lower than Luzern.  Highly recommended and would return. ===> Predicted As Novelty Seeking\n",
      "\n",
      "Text Review : There is very little I can write, by way of giving information, that isn't already widely available across the internet, so I'll stick to personal advice and experience. The \"At The Top\" experience can be booked up to 28 days in advance and I'd strongly recommend doing that. It can avoid hours of queueing on the day. You can also add the option of a virtual reality experience and I'd also recommend that.  The experience begins with a journey to the 125th floor in the fastest elevator I've ever been in, yet you have no real sensation of the speed when inside. It's only when you get there, and look down from the viewing platform, that you realise how far you have travelled in such a short space of time. There is a photographer offering the usual professional shots that you think you'll never buy, but they were so good that we did buy several of them. However, you can also capture many great shots with your own camera, so be sure to remember to take it with you. I'll attach several of my own to this review. ===> Predicted As Non-Novelty Seeking\n",
      "\n",
      "Text Review : You can by a pass for historical sites and rush the lane on it. Do not forget about sun - take a covers. ===> Predicted As Novelty Seeking\n",
      "\n"
     ]
    }
   ],
   "source": [
    "testData = pd.read_csv(\"Dataset/testData.csv\")#reading test data\n",
    "for i in range(len(testData)):\n",
    "    msg = dataset.get_value(i, 'content')#read test review as message\n",
    "    msgs = msg.strip().lower()        #convert to lower case\n",
    "    msgs = cleanText(msgs)#clean messages\n",
    "    data = []\n",
    "    data.append(msgs)#add message to array\n",
    "    embeddings = bert.encode(data, convert_to_tensor=True)#convert message review to bert vector\n",
    "    X = embeddings.numpy()#convert vector to numpy\n",
    "    X = np.reshape(X, (X.shape[0], 32, 24))#reshape vector\n",
    "    predict = extension_model.predict(X)#using extension model predict weather test message is Novelty or not\n",
    "    predict = np.argmax(predict)\n",
    "    print(\"Text Review : \"+msg+\" ===> Predicted As \"+labels[predict]+\"\\n\")"
   ]
  },
  {
   "cell_type": "code",
   "execution_count": null,
   "metadata": {},
   "outputs": [],
   "source": []
  },
  {
   "cell_type": "code",
   "execution_count": null,
   "metadata": {},
   "outputs": [],
   "source": []
  }
 ],
 "metadata": {
  "kernelspec": {
   "display_name": "Python 3",
   "language": "python",
   "name": "python3"
  },
  "language_info": {
   "codemirror_mode": {
    "name": "ipython",
    "version": 3
   },
   "file_extension": ".py",
   "mimetype": "text/x-python",
   "name": "python",
   "nbconvert_exporter": "python",
   "pygments_lexer": "ipython3",
   "version": "3.7.4"
  }
 },
 "nbformat": 4,
 "nbformat_minor": 5
}
